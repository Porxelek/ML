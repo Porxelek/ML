{
 "cells": [
  {
   "cell_type": "markdown",
   "metadata": {
    "id": "4UCsvzbImqZN"
   },
   "source": [
    "___\n",
    "\n",
    "<p style=\"text-align: center;\"><img src=\"https://docs.google.com/uc?id=1lY0Uj5R04yMY3-ZppPWxqCr5pvBLYPnV\" class=\"img-fluid\" alt=\"CLRSWY\"></p>\n",
    "\n",
    "___"
   ]
  },
  {
   "cell_type": "markdown",
   "metadata": {
    "id": "i5WapR8JmqZN"
   },
   "source": [
    "# WELCOME!"
   ]
  },
  {
   "cell_type": "markdown",
   "metadata": {
    "id": "ZyeGWbuTmqZN"
   },
   "source": [
    "Welcome to \"***Car Price Prediction Project***\". This is the first medium project of ***Machine Learning*** course. In this project you will have the opportunity to apply many algorithms commonly used for regression problems.\n",
    "\n",
    "Also, you will apply various processes such as pre-processing, ***train-test spilit*** and ***cross validation*** that you will use in algorithm modeling and prediction processes in Python with ***scikit-learn***. \n",
    "\n",
    "Before diving into the project, please take a look at the determines and tasks.\n",
    "\n",
    "- **NOTE:** This project assumes that you already know the basics of coding in Python. You should also be familiar with the theory behind regression algorithms and scikit-learn module as well as Machine Learning before you begin.\n"
   ]
  },
  {
   "cell_type": "markdown",
   "metadata": {
    "id": "c0Iul5QymqZN"
   },
   "source": [
    "# #Determines\n",
    "\n",
    "**Auto Scout** data which using for this project, scraped from the on-line car trading company(https://www.autoscout24.com)in 2019, contains many features of 9 different car models. In this project, you will use the data set which is already preprocessed and prepared for algorithms .\n",
    "\n",
    "The aim of this project to understand of machine learning algorithms. Therefore, you will not need any EDA process as you will be working on the edited data.\n",
    "\n",
    "---\n",
    "\n",
    "In this Senario, you will estimate the prices of cars using regression algorithms.\n",
    "\n",
    "While starting you should import the necessary modules and load the data given as pkl file. Also you'll need to do a few pre-processing before moving to modelling. After that you will implement ***Linear Regression, Ridge Regression, Lasso Regression,and Elastic-Net algorithms respectively*** (After completion of Unsupervised Learning section, you can also add bagging and boosting algorithms such as ***Random Forest and XG Boost*** this notebook to develop the project). You can measure the success of your models with regression evaluation metrics as well as with cross validation method.\n",
    "\n",
    "For the better results, you should try to increase the success of your models by performing hyperparameter tuning. Determine feature importances for the model. You can set your model with the most important features for resource saving. You should try to apply this especially in Random Forest and XG Boost algorithms. Unlike the others, you will perform hyperparameter tuning for Random Forest and XG Boost using the ***GridSearchCV*** method. \n",
    "\n",
    "Finally You can compare the performances of algorithms, work more on the algorithm have the most successful prediction rate.\n",
    "\n",
    "\n",
    "\n",
    "\n"
   ]
  },
  {
   "cell_type": "markdown",
   "metadata": {
    "id": "pL-jJ1irmqZN"
   },
   "source": [
    "# #Tasks\n",
    "\n",
    "#### 1. Import Modules, Load Data and Data Review\n",
    "#### 2. Data Pre-Processing\n",
    "#### 3. Implement Linear Regression \n",
    "#### 4. Implement Ridge Regression\n",
    "#### 5. Implement Lasso Regression \n",
    "#### 6. Implement Elastic-Net\n",
    "#### 7. Visually Compare Models Performance In a Graph"
   ]
  },
  {
   "cell_type": "markdown",
   "metadata": {
    "id": "Rik6d_vimqZN"
   },
   "source": [
    "## 1. Import Modules, Load Data and Data Review"
   ]
  },
  {
   "cell_type": "code",
   "execution_count": 13,
   "metadata": {
    "id": "QBddHlqgmqZN"
   },
   "outputs": [],
   "source": [
    "import numpy as np\n",
    "import pandas as pd\n",
    "import matplotlib.pyplot as plt\n",
    "import seaborn as sns\n",
    "%matplotlib inline\n",
    "\n",
    "import warnings\n",
    "warnings.filterwarnings(\"ignore\")\n",
    "\n",
    "pd.set_option('display.float_format', lambda x: '%.4f' % x)"
   ]
  },
  {
   "cell_type": "code",
   "execution_count": 14,
   "metadata": {
    "id": "lq6UKn_HmqZO"
   },
   "outputs": [],
   "source": [
    "from sklearn.model_selection import train_test_split\n",
    "from sklearn.preprocessing import StandardScaler\n",
    "from sklearn.metrics import mean_absolute_error, mean_squared_error, r2_score\n",
    "from sklearn.model_selection import cross_validate"
   ]
  },
  {
   "cell_type": "code",
   "execution_count": 15,
   "metadata": {},
   "outputs": [
    {
     "data": {
      "text/html": [
       "<div>\n",
       "<style scoped>\n",
       "    .dataframe tbody tr th:only-of-type {\n",
       "        vertical-align: middle;\n",
       "    }\n",
       "\n",
       "    .dataframe tbody tr th {\n",
       "        vertical-align: top;\n",
       "    }\n",
       "\n",
       "    .dataframe thead th {\n",
       "        text-align: right;\n",
       "    }\n",
       "</style>\n",
       "<table border=\"1\" class=\"dataframe\">\n",
       "  <thead>\n",
       "    <tr style=\"text-align: right;\">\n",
       "      <th></th>\n",
       "      <th>price</th>\n",
       "      <th>km</th>\n",
       "      <th>prev_owner</th>\n",
       "      <th>kw</th>\n",
       "      <th>Nr. of Doors</th>\n",
       "      <th>Nr. of Seats</th>\n",
       "      <th>Displacement_cc</th>\n",
       "      <th>Weight_kg</th>\n",
       "      <th>Consumption_comb</th>\n",
       "      <th>Gears</th>\n",
       "      <th>...</th>\n",
       "      <th>Upholstery_Cloth</th>\n",
       "      <th>Upholstery_Leather</th>\n",
       "      <th>Upholstery_Other</th>\n",
       "      <th>Gearing Type_Automatic</th>\n",
       "      <th>Gearing Type_Manual</th>\n",
       "      <th>Gearing Type_Semi-automatic</th>\n",
       "      <th>Fuel_Benzine</th>\n",
       "      <th>Fuel_Diesel</th>\n",
       "      <th>Fuel_Electric</th>\n",
       "      <th>Fuel_LPG/CNG</th>\n",
       "    </tr>\n",
       "  </thead>\n",
       "  <tbody>\n",
       "    <tr>\n",
       "      <th>5702</th>\n",
       "      <td>24990</td>\n",
       "      <td>5000</td>\n",
       "      <td>1.0000</td>\n",
       "      <td>113.9869</td>\n",
       "      <td>5.0000</td>\n",
       "      <td>5.0000</td>\n",
       "      <td>999.0000</td>\n",
       "      <td>1790.0000</td>\n",
       "      <td>4.2999</td>\n",
       "      <td>6.0000</td>\n",
       "      <td>...</td>\n",
       "      <td>1</td>\n",
       "      <td>0</td>\n",
       "      <td>0</td>\n",
       "      <td>0</td>\n",
       "      <td>1</td>\n",
       "      <td>0</td>\n",
       "      <td>1</td>\n",
       "      <td>0</td>\n",
       "      <td>0</td>\n",
       "      <td>0</td>\n",
       "    </tr>\n",
       "    <tr>\n",
       "      <th>15740</th>\n",
       "      <td>34990</td>\n",
       "      <td>8990</td>\n",
       "      <td>1.0000</td>\n",
       "      <td>159.5816</td>\n",
       "      <td>5.0000</td>\n",
       "      <td>5.0000</td>\n",
       "      <td>1598.0000</td>\n",
       "      <td>1711.3364</td>\n",
       "      <td>5.4683</td>\n",
       "      <td>6.0000</td>\n",
       "      <td>...</td>\n",
       "      <td>0</td>\n",
       "      <td>1</td>\n",
       "      <td>0</td>\n",
       "      <td>1</td>\n",
       "      <td>0</td>\n",
       "      <td>0</td>\n",
       "      <td>0</td>\n",
       "      <td>1</td>\n",
       "      <td>0</td>\n",
       "      <td>0</td>\n",
       "    </tr>\n",
       "    <tr>\n",
       "      <th>688</th>\n",
       "      <td>12490</td>\n",
       "      <td>28000</td>\n",
       "      <td>1.0000</td>\n",
       "      <td>80.4613</td>\n",
       "      <td>2.0000</td>\n",
       "      <td>4.0000</td>\n",
       "      <td>999.0000</td>\n",
       "      <td>1176.6406</td>\n",
       "      <td>4.4000</td>\n",
       "      <td>5.0000</td>\n",
       "      <td>...</td>\n",
       "      <td>0</td>\n",
       "      <td>0</td>\n",
       "      <td>1</td>\n",
       "      <td>0</td>\n",
       "      <td>1</td>\n",
       "      <td>0</td>\n",
       "      <td>1</td>\n",
       "      <td>0</td>\n",
       "      <td>0</td>\n",
       "      <td>0</td>\n",
       "    </tr>\n",
       "    <tr>\n",
       "      <th>7327</th>\n",
       "      <td>15270</td>\n",
       "      <td>25350</td>\n",
       "      <td>1.0000</td>\n",
       "      <td>123.3740</td>\n",
       "      <td>5.0000</td>\n",
       "      <td>5.0000</td>\n",
       "      <td>1399.0000</td>\n",
       "      <td>1268.0000</td>\n",
       "      <td>4.8065</td>\n",
       "      <td>6.0000</td>\n",
       "      <td>...</td>\n",
       "      <td>1</td>\n",
       "      <td>0</td>\n",
       "      <td>0</td>\n",
       "      <td>0</td>\n",
       "      <td>1</td>\n",
       "      <td>0</td>\n",
       "      <td>1</td>\n",
       "      <td>0</td>\n",
       "      <td>0</td>\n",
       "      <td>0</td>\n",
       "    </tr>\n",
       "    <tr>\n",
       "      <th>643</th>\n",
       "      <td>12500</td>\n",
       "      <td>65000</td>\n",
       "      <td>1.0000</td>\n",
       "      <td>93.8715</td>\n",
       "      <td>5.0000</td>\n",
       "      <td>4.0000</td>\n",
       "      <td>999.0000</td>\n",
       "      <td>1135.0000</td>\n",
       "      <td>4.2000</td>\n",
       "      <td>5.0000</td>\n",
       "      <td>...</td>\n",
       "      <td>1</td>\n",
       "      <td>0</td>\n",
       "      <td>0</td>\n",
       "      <td>0</td>\n",
       "      <td>1</td>\n",
       "      <td>0</td>\n",
       "      <td>1</td>\n",
       "      <td>0</td>\n",
       "      <td>0</td>\n",
       "      <td>0</td>\n",
       "    </tr>\n",
       "  </tbody>\n",
       "</table>\n",
       "<p>5 rows × 137 columns</p>\n",
       "</div>"
      ],
      "text/plain": [
       "       price     km  prev_owner       kw  Nr. of Doors  Nr. of Seats  \\\n",
       "5702   24990   5000      1.0000 113.9869        5.0000        5.0000   \n",
       "15740  34990   8990      1.0000 159.5816        5.0000        5.0000   \n",
       "688    12490  28000      1.0000  80.4613        2.0000        4.0000   \n",
       "7327   15270  25350      1.0000 123.3740        5.0000        5.0000   \n",
       "643    12500  65000      1.0000  93.8715        5.0000        4.0000   \n",
       "\n",
       "       Displacement_cc  Weight_kg  Consumption_comb  Gears  ...  \\\n",
       "5702          999.0000  1790.0000            4.2999 6.0000  ...   \n",
       "15740        1598.0000  1711.3364            5.4683 6.0000  ...   \n",
       "688           999.0000  1176.6406            4.4000 5.0000  ...   \n",
       "7327         1399.0000  1268.0000            4.8065 6.0000  ...   \n",
       "643           999.0000  1135.0000            4.2000 5.0000  ...   \n",
       "\n",
       "       Upholstery_Cloth  Upholstery_Leather  Upholstery_Other  \\\n",
       "5702                  1                   0                 0   \n",
       "15740                 0                   1                 0   \n",
       "688                   0                   0                 1   \n",
       "7327                  1                   0                 0   \n",
       "643                   1                   0                 0   \n",
       "\n",
       "       Gearing Type_Automatic  Gearing Type_Manual  \\\n",
       "5702                        0                    1   \n",
       "15740                       1                    0   \n",
       "688                         0                    1   \n",
       "7327                        0                    1   \n",
       "643                         0                    1   \n",
       "\n",
       "       Gearing Type_Semi-automatic  Fuel_Benzine  Fuel_Diesel  Fuel_Electric  \\\n",
       "5702                             0             1            0              0   \n",
       "15740                            0             0            1              0   \n",
       "688                              0             1            0              0   \n",
       "7327                             0             1            0              0   \n",
       "643                              0             1            0              0   \n",
       "\n",
       "       Fuel_LPG/CNG  \n",
       "5702              0  \n",
       "15740             0  \n",
       "688               0  \n",
       "7327              0  \n",
       "643               0  \n",
       "\n",
       "[5 rows x 137 columns]"
      ]
     },
     "execution_count": 15,
     "metadata": {},
     "output_type": "execute_result"
    }
   ],
   "source": [
    "df = pd.read_csv(\"Auto_scout_ml.csv\")\n",
    "df.sample(5)"
   ]
  },
  {
   "cell_type": "code",
   "execution_count": 16,
   "metadata": {},
   "outputs": [
    {
     "data": {
      "text/plain": [
       "(15918, 137)"
      ]
     },
     "execution_count": 16,
     "metadata": {},
     "output_type": "execute_result"
    }
   ],
   "source": [
    "df.shape"
   ]
  },
  {
   "cell_type": "markdown",
   "metadata": {
    "id": "QsEUUAAKmqZN"
   },
   "source": [
    "## 2. Data Pre-Processing"
   ]
  },
  {
   "cell_type": "markdown",
   "metadata": {
    "id": "QtVkM6f2mqZN"
   },
   "source": [
    "As you know, the data set must be edited before proceeding to the implementation of the model. As the last step before model fitting, you need to spilit the data set as train and test. Then, you should train the model with train data and evaluate the performance of the model on the test data. You can use the train and test data you have created for all algorithms.\n",
    "\n",
    "You must also drop your target variable, the column you are trying to predict."
   ]
  },
  {
   "cell_type": "markdown",
   "metadata": {
    "id": "K7d_92iemqZN"
   },
   "source": [
    "You can use many [performance metrics for regression](https://medium.com/analytics-vidhya/evaluation-metrics-for-regression-problems-343c4923d922) to measure the performance of the regression model you train. You can define a function to view different metric results together.\n",
    "\n",
    "You can also use the [cross validation](https://towardsdatascience.com/cross-validation-explained-evaluating-estimator-performance-e51e5430ff85) method to measure the estimator performance. Cross validation uses different data samples from your test set and calculates the accuracy score for each data sample. You can calculate the final performance of your estimator by averaging these scores."
   ]
  },
  {
   "cell_type": "code",
   "execution_count": 17,
   "metadata": {},
   "outputs": [
    {
     "data": {
      "text/plain": [
       "Index(['price', 'km', 'prev_owner', 'kw', 'Nr. of Doors', 'Nr. of Seats',\n",
       "       'Displacement_cc', 'Weight_kg', 'Consumption_comb', 'Gears',\n",
       "       ...\n",
       "       'Upholstery_Cloth', 'Upholstery_Leather', 'Upholstery_Other',\n",
       "       'Gearing Type_Automatic', 'Gearing Type_Manual',\n",
       "       'Gearing Type_Semi-automatic', 'Fuel_Benzine', 'Fuel_Diesel',\n",
       "       'Fuel_Electric', 'Fuel_LPG/CNG'],\n",
       "      dtype='object', length=137)"
      ]
     },
     "execution_count": 17,
     "metadata": {},
     "output_type": "execute_result"
    }
   ],
   "source": [
    "df.columns"
   ]
  },
  {
   "cell_type": "code",
   "execution_count": 18,
   "metadata": {
    "id": "-3gMQ3utmqZN",
    "scrolled": false
   },
   "outputs": [
    {
     "ename": "KeyError",
     "evalue": "\"['hp'] not in index\"",
     "output_type": "error",
     "traceback": [
      "\u001b[1;31m---------------------------------------------------------------------------\u001b[0m",
      "\u001b[1;31mKeyError\u001b[0m                                  Traceback (most recent call last)",
      "\u001b[1;32mf:\\ML\\Assignment\\modeling_auto_scout_S.ipynb Cell 15'\u001b[0m in \u001b[0;36m<cell line: 2>\u001b[1;34m()\u001b[0m\n\u001b[0;32m      <a href='vscode-notebook-cell:/f%3A/ML/Assignment/modeling_auto_scout_S.ipynb#ch0000014?line=0'>1</a>\u001b[0m plt\u001b[39m.\u001b[39mfigure(figsize\u001b[39m=\u001b[39m(\u001b[39m10\u001b[39m,\u001b[39m6\u001b[39m))\n\u001b[1;32m----> <a href='vscode-notebook-cell:/f%3A/ML/Assignment/modeling_auto_scout_S.ipynb#ch0000014?line=1'>2</a>\u001b[0m sns\u001b[39m.\u001b[39mheatmap(df[[\u001b[39m'\u001b[39;49m\u001b[39mprice\u001b[39;49m\u001b[39m'\u001b[39;49m, \u001b[39m'\u001b[39;49m\u001b[39mkm\u001b[39;49m\u001b[39m'\u001b[39;49m, \u001b[39m'\u001b[39;49m\u001b[39mhp\u001b[39;49m\u001b[39m'\u001b[39;49m, \u001b[39m'\u001b[39;49m\u001b[39mDisplacement_cc\u001b[39;49m\u001b[39m'\u001b[39;49m, \u001b[39m'\u001b[39;49m\u001b[39mWeight_kg\u001b[39;49m\u001b[39m'\u001b[39;49m, \u001b[39m'\u001b[39;49m\u001b[39mConsumption_comb\u001b[39;49m\u001b[39m'\u001b[39;49m,\n\u001b[0;32m      <a href='vscode-notebook-cell:/f%3A/ML/Assignment/modeling_auto_scout_S.ipynb#ch0000014?line=2'>3</a>\u001b[0m        \u001b[39m'\u001b[39;49m\u001b[39mGears\u001b[39;49m\u001b[39m'\u001b[39;49m, \u001b[39m'\u001b[39;49m\u001b[39mAge\u001b[39;49m\u001b[39m'\u001b[39;49m]]\u001b[39m.\u001b[39mcorr(), vmin\u001b[39m=\u001b[39m\u001b[39m-\u001b[39m\u001b[39m1\u001b[39m, vmax\u001b[39m=\u001b[39m\u001b[39m1\u001b[39m, cmap \u001b[39m=\u001b[39m \u001b[39m\"\u001b[39m\u001b[39mcoolwarm\u001b[39m\u001b[39m\"\u001b[39m, annot \u001b[39m=\u001b[39m \u001b[39mTrue\u001b[39;00m)\n",
      "File \u001b[1;32m~\\AppData\\Local\\Programs\\Python\\Python310\\lib\\site-packages\\pandas\\core\\frame.py:3511\u001b[0m, in \u001b[0;36mDataFrame.__getitem__\u001b[1;34m(self, key)\u001b[0m\n\u001b[0;32m   <a href='file:///c%3A/Users/PORXELEK/AppData/Local/Programs/Python/Python310/lib/site-packages/pandas/core/frame.py?line=3508'>3509</a>\u001b[0m     \u001b[39mif\u001b[39;00m is_iterator(key):\n\u001b[0;32m   <a href='file:///c%3A/Users/PORXELEK/AppData/Local/Programs/Python/Python310/lib/site-packages/pandas/core/frame.py?line=3509'>3510</a>\u001b[0m         key \u001b[39m=\u001b[39m \u001b[39mlist\u001b[39m(key)\n\u001b[1;32m-> <a href='file:///c%3A/Users/PORXELEK/AppData/Local/Programs/Python/Python310/lib/site-packages/pandas/core/frame.py?line=3510'>3511</a>\u001b[0m     indexer \u001b[39m=\u001b[39m \u001b[39mself\u001b[39;49m\u001b[39m.\u001b[39;49mcolumns\u001b[39m.\u001b[39;49m_get_indexer_strict(key, \u001b[39m\"\u001b[39;49m\u001b[39mcolumns\u001b[39;49m\u001b[39m\"\u001b[39;49m)[\u001b[39m1\u001b[39m]\n\u001b[0;32m   <a href='file:///c%3A/Users/PORXELEK/AppData/Local/Programs/Python/Python310/lib/site-packages/pandas/core/frame.py?line=3512'>3513</a>\u001b[0m \u001b[39m# take() does not accept boolean indexers\u001b[39;00m\n\u001b[0;32m   <a href='file:///c%3A/Users/PORXELEK/AppData/Local/Programs/Python/Python310/lib/site-packages/pandas/core/frame.py?line=3513'>3514</a>\u001b[0m \u001b[39mif\u001b[39;00m \u001b[39mgetattr\u001b[39m(indexer, \u001b[39m\"\u001b[39m\u001b[39mdtype\u001b[39m\u001b[39m\"\u001b[39m, \u001b[39mNone\u001b[39;00m) \u001b[39m==\u001b[39m \u001b[39mbool\u001b[39m:\n",
      "File \u001b[1;32m~\\AppData\\Local\\Programs\\Python\\Python310\\lib\\site-packages\\pandas\\core\\indexes\\base.py:5782\u001b[0m, in \u001b[0;36mIndex._get_indexer_strict\u001b[1;34m(self, key, axis_name)\u001b[0m\n\u001b[0;32m   <a href='file:///c%3A/Users/PORXELEK/AppData/Local/Programs/Python/Python310/lib/site-packages/pandas/core/indexes/base.py?line=5778'>5779</a>\u001b[0m \u001b[39melse\u001b[39;00m:\n\u001b[0;32m   <a href='file:///c%3A/Users/PORXELEK/AppData/Local/Programs/Python/Python310/lib/site-packages/pandas/core/indexes/base.py?line=5779'>5780</a>\u001b[0m     keyarr, indexer, new_indexer \u001b[39m=\u001b[39m \u001b[39mself\u001b[39m\u001b[39m.\u001b[39m_reindex_non_unique(keyarr)\n\u001b[1;32m-> <a href='file:///c%3A/Users/PORXELEK/AppData/Local/Programs/Python/Python310/lib/site-packages/pandas/core/indexes/base.py?line=5781'>5782</a>\u001b[0m \u001b[39mself\u001b[39;49m\u001b[39m.\u001b[39;49m_raise_if_missing(keyarr, indexer, axis_name)\n\u001b[0;32m   <a href='file:///c%3A/Users/PORXELEK/AppData/Local/Programs/Python/Python310/lib/site-packages/pandas/core/indexes/base.py?line=5783'>5784</a>\u001b[0m keyarr \u001b[39m=\u001b[39m \u001b[39mself\u001b[39m\u001b[39m.\u001b[39mtake(indexer)\n\u001b[0;32m   <a href='file:///c%3A/Users/PORXELEK/AppData/Local/Programs/Python/Python310/lib/site-packages/pandas/core/indexes/base.py?line=5784'>5785</a>\u001b[0m \u001b[39mif\u001b[39;00m \u001b[39misinstance\u001b[39m(key, Index):\n\u001b[0;32m   <a href='file:///c%3A/Users/PORXELEK/AppData/Local/Programs/Python/Python310/lib/site-packages/pandas/core/indexes/base.py?line=5785'>5786</a>\u001b[0m     \u001b[39m# GH 42790 - Preserve name from an Index\u001b[39;00m\n",
      "File \u001b[1;32m~\\AppData\\Local\\Programs\\Python\\Python310\\lib\\site-packages\\pandas\\core\\indexes\\base.py:5845\u001b[0m, in \u001b[0;36mIndex._raise_if_missing\u001b[1;34m(self, key, indexer, axis_name)\u001b[0m\n\u001b[0;32m   <a href='file:///c%3A/Users/PORXELEK/AppData/Local/Programs/Python/Python310/lib/site-packages/pandas/core/indexes/base.py?line=5841'>5842</a>\u001b[0m     \u001b[39mraise\u001b[39;00m \u001b[39mKeyError\u001b[39;00m(\u001b[39mf\u001b[39m\u001b[39m\"\u001b[39m\u001b[39mNone of [\u001b[39m\u001b[39m{\u001b[39;00mkey\u001b[39m}\u001b[39;00m\u001b[39m] are in the [\u001b[39m\u001b[39m{\u001b[39;00maxis_name\u001b[39m}\u001b[39;00m\u001b[39m]\u001b[39m\u001b[39m\"\u001b[39m)\n\u001b[0;32m   <a href='file:///c%3A/Users/PORXELEK/AppData/Local/Programs/Python/Python310/lib/site-packages/pandas/core/indexes/base.py?line=5843'>5844</a>\u001b[0m not_found \u001b[39m=\u001b[39m \u001b[39mlist\u001b[39m(ensure_index(key)[missing_mask\u001b[39m.\u001b[39mnonzero()[\u001b[39m0\u001b[39m]]\u001b[39m.\u001b[39munique())\n\u001b[1;32m-> <a href='file:///c%3A/Users/PORXELEK/AppData/Local/Programs/Python/Python310/lib/site-packages/pandas/core/indexes/base.py?line=5844'>5845</a>\u001b[0m \u001b[39mraise\u001b[39;00m \u001b[39mKeyError\u001b[39;00m(\u001b[39mf\u001b[39m\u001b[39m\"\u001b[39m\u001b[39m{\u001b[39;00mnot_found\u001b[39m}\u001b[39;00m\u001b[39m not in index\u001b[39m\u001b[39m\"\u001b[39m)\n",
      "\u001b[1;31mKeyError\u001b[0m: \"['hp'] not in index\""
     ]
    },
    {
     "data": {
      "text/plain": [
       "<Figure size 720x432 with 0 Axes>"
      ]
     },
     "metadata": {},
     "output_type": "display_data"
    }
   ],
   "source": [
    "plt.figure(figsize=(10,6))\n",
    "sns.heatmap(df[['price', 'km', 'hp', 'Displacement_cc', 'Weight_kg', 'Consumption_comb',\n",
    "       'Gears', 'Age']].corr(), vmin=-1, vmax=1, cmap = \"coolwarm\", annot = True);"
   ]
  },
  {
   "cell_type": "code",
   "execution_count": 19,
   "metadata": {},
   "outputs": [],
   "source": [
    "X = df.drop(\"price\", axis = 1)\n",
    "y = df[\"price\"]"
   ]
  },
  {
   "cell_type": "code",
   "execution_count": 20,
   "metadata": {},
   "outputs": [
    {
     "data": {
      "text/plain": [
       "(15918, 136)"
      ]
     },
     "execution_count": 20,
     "metadata": {},
     "output_type": "execute_result"
    }
   ],
   "source": [
    "X.shape"
   ]
  },
  {
   "cell_type": "code",
   "execution_count": 21,
   "metadata": {},
   "outputs": [
    {
     "data": {
      "text/plain": [
       "(15918,)"
      ]
     },
     "execution_count": 21,
     "metadata": {},
     "output_type": "execute_result"
    }
   ],
   "source": [
    "y.shape"
   ]
  },
  {
   "cell_type": "code",
   "execution_count": 22,
   "metadata": {},
   "outputs": [],
   "source": [
    "X_train, X_test, y_train, y_test = train_test_split(X,y, test_size = 0.3, random_state = 42)"
   ]
  },
  {
   "cell_type": "code",
   "execution_count": 23,
   "metadata": {},
   "outputs": [
    {
     "data": {
      "text/plain": [
       "(11142, 136)"
      ]
     },
     "execution_count": 23,
     "metadata": {},
     "output_type": "execute_result"
    }
   ],
   "source": [
    "X_train.shape"
   ]
  },
  {
   "cell_type": "code",
   "execution_count": 24,
   "metadata": {},
   "outputs": [
    {
     "data": {
      "text/plain": [
       "(4776, 136)"
      ]
     },
     "execution_count": 24,
     "metadata": {},
     "output_type": "execute_result"
    }
   ],
   "source": [
    "X_test.shape"
   ]
  },
  {
   "cell_type": "markdown",
   "metadata": {
    "id": "An_5ITcAmqZO"
   },
   "source": [
    "## 3. Implement Linear Regression"
   ]
  },
  {
   "cell_type": "markdown",
   "metadata": {
    "id": "0c0y-w8vmqZO"
   },
   "source": [
    " - Import the modul\n",
    " - Fit the model \n",
    " - Predict the test set\n",
    " - Determine feature coefficiant\n",
    " - Evaluate model performance (use performance metrics for regression and cross_val_score)\n",
    " - Compare different evaluation metrics\n",
    " \n",
    "*Note: You can use the [dir()](https://www.geeksforgeeks.org/python-dir-function/) function to see the methods you need.*"
   ]
  },
  {
   "cell_type": "code",
   "execution_count": 25,
   "metadata": {},
   "outputs": [],
   "source": [
    "from sklearn.linear_model import LinearRegression"
   ]
  },
  {
   "cell_type": "code",
   "execution_count": 26,
   "metadata": {},
   "outputs": [],
   "source": [
    "linear_model = LinearRegression()"
   ]
  },
  {
   "cell_type": "code",
   "execution_count": 27,
   "metadata": {},
   "outputs": [
    {
     "data": {
      "text/plain": [
       "StandardScaler()"
      ]
     },
     "execution_count": 27,
     "metadata": {},
     "output_type": "execute_result"
    }
   ],
   "source": [
    "scaler = StandardScaler()\n",
    "scaler.fit(X_train)"
   ]
  },
  {
   "cell_type": "code",
   "execution_count": 28,
   "metadata": {},
   "outputs": [],
   "source": [
    "X_train_scaled = scaler.transform(X_train)"
   ]
  },
  {
   "cell_type": "code",
   "execution_count": 29,
   "metadata": {},
   "outputs": [],
   "source": [
    "X_test_scaled = scaler.transform(X_test)"
   ]
  },
  {
   "cell_type": "code",
   "execution_count": 30,
   "metadata": {},
   "outputs": [
    {
     "data": {
      "text/plain": [
       "LinearRegression()"
      ]
     },
     "execution_count": 30,
     "metadata": {},
     "output_type": "execute_result"
    }
   ],
   "source": [
    "linear_model.fit(X_train_scaled, y_train)"
   ]
  },
  {
   "cell_type": "code",
   "execution_count": 31,
   "metadata": {},
   "outputs": [],
   "source": [
    "y_pred = linear_model.predict(X_test_scaled)\n",
    "y_train_pred = linear_model.predict(X_train_scaled)"
   ]
  },
  {
   "cell_type": "code",
   "execution_count": 32,
   "metadata": {},
   "outputs": [],
   "source": [
    "def train_val(y_train, y_train_pred, y_test, y_pred, name):\n",
    "    \n",
    "    scores = {name+\"_train\": {\"R2\" : r2_score(y_train, y_train_pred),\n",
    "            \"mae\" : mean_absolute_error(y_train, y_train_pred),\n",
    "            \"mse\" : mean_squared_error(y_train, y_train_pred),                          \n",
    "            \"rmse\" : np.sqrt(mean_squared_error(y_train, y_train_pred))},\n",
    "\n",
    "            name+\"_test\": {\"R2\" : r2_score(y_test, y_pred),\n",
    "            \"mae\" : mean_absolute_error(y_test, y_pred),\n",
    "            \"mse\" : mean_squared_error(y_test, y_pred),\n",
    "            \"rmse\" : np.sqrt(mean_squared_error(y_test, y_pred))}\n",
    "        }\n",
    "    \n",
    "    return pd.DataFrame(scores)"
   ]
  },
  {
   "cell_type": "code",
   "execution_count": 33,
   "metadata": {},
   "outputs": [
    {
     "data": {
      "text/html": [
       "<div>\n",
       "<style scoped>\n",
       "    .dataframe tbody tr th:only-of-type {\n",
       "        vertical-align: middle;\n",
       "    }\n",
       "\n",
       "    .dataframe tbody tr th {\n",
       "        vertical-align: top;\n",
       "    }\n",
       "\n",
       "    .dataframe thead th {\n",
       "        text-align: right;\n",
       "    }\n",
       "</style>\n",
       "<table border=\"1\" class=\"dataframe\">\n",
       "  <thead>\n",
       "    <tr style=\"text-align: right;\">\n",
       "      <th></th>\n",
       "      <th>linear_train</th>\n",
       "      <th>linear_test</th>\n",
       "    </tr>\n",
       "  </thead>\n",
       "  <tbody>\n",
       "    <tr>\n",
       "      <th>R2</th>\n",
       "      <td>0.8832</td>\n",
       "      <td>0.8775</td>\n",
       "    </tr>\n",
       "    <tr>\n",
       "      <th>mae</th>\n",
       "      <td>1754.1428</td>\n",
       "      <td>1766.2964</td>\n",
       "    </tr>\n",
       "    <tr>\n",
       "      <th>mse</th>\n",
       "      <td>6349305.8718</td>\n",
       "      <td>6734456.9130</td>\n",
       "    </tr>\n",
       "    <tr>\n",
       "      <th>rmse</th>\n",
       "      <td>2519.7829</td>\n",
       "      <td>2595.0832</td>\n",
       "    </tr>\n",
       "  </tbody>\n",
       "</table>\n",
       "</div>"
      ],
      "text/plain": [
       "      linear_train  linear_test\n",
       "R2          0.8832       0.8775\n",
       "mae      1754.1428    1766.2964\n",
       "mse   6349305.8718 6734456.9130\n",
       "rmse     2519.7829    2595.0832"
      ]
     },
     "execution_count": 33,
     "metadata": {},
     "output_type": "execute_result"
    }
   ],
   "source": [
    "lm = train_val(y_train, y_train_pred, y_test, y_pred, \"linear\")\n",
    "lm"
   ]
  },
  {
   "cell_type": "code",
   "execution_count": 34,
   "metadata": {},
   "outputs": [],
   "source": [
    "model = LinearRegression()\n",
    "scores = cross_validate(model, X_train_scaled, y_train, scoring = ['r2', 'neg_mean_absolute_error','neg_mean_squared_error',\n",
    "                                                                   'neg_root_mean_squared_error'], cv = 5)"
   ]
  },
  {
   "cell_type": "code",
   "execution_count": 35,
   "metadata": {},
   "outputs": [
    {
     "data": {
      "text/plain": [
       "{'fit_time': array([0.26083779, 0.3507812 , 0.38327885, 0.26183772, 0.27383184]),\n",
       " 'score_time': array([0.01998854, 0.00599837, 0.00399947, 0.00499749, 0.00399947]),\n",
       " 'test_r2': array([-4.32633459e+23,  8.87112765e-01,  8.71362653e-01, -1.15273331e+22,\n",
       "         8.78694065e-01]),\n",
       " 'test_neg_mean_absolute_error': array([-1.03016833e+14, -1.71856543e+03, -1.77725872e+03, -1.81667300e+13,\n",
       "        -1.74990053e+03]),\n",
       " 'test_neg_mean_squared_error': array([-2.36551907e+31, -5.78136142e+06, -6.38921106e+06, -7.35307018e+29,\n",
       "        -6.34461820e+06]),\n",
       " 'test_neg_root_mean_squared_error': array([-4.86366022e+15, -2.40444618e+03, -2.52768888e+03, -8.57500448e+14,\n",
       "        -2.51885256e+03])}"
      ]
     },
     "execution_count": 35,
     "metadata": {},
     "output_type": "execute_result"
    }
   ],
   "source": [
    "scores"
   ]
  },
  {
   "cell_type": "code",
   "execution_count": 36,
   "metadata": {},
   "outputs": [
    {
     "data": {
      "text/html": [
       "<div>\n",
       "<style scoped>\n",
       "    .dataframe tbody tr th:only-of-type {\n",
       "        vertical-align: middle;\n",
       "    }\n",
       "\n",
       "    .dataframe tbody tr th {\n",
       "        vertical-align: top;\n",
       "    }\n",
       "\n",
       "    .dataframe thead th {\n",
       "        text-align: right;\n",
       "    }\n",
       "</style>\n",
       "<table border=\"1\" class=\"dataframe\">\n",
       "  <thead>\n",
       "    <tr style=\"text-align: right;\">\n",
       "      <th></th>\n",
       "      <th>fit_time</th>\n",
       "      <th>score_time</th>\n",
       "      <th>test_r2</th>\n",
       "      <th>test_neg_mean_absolute_error</th>\n",
       "      <th>test_neg_mean_squared_error</th>\n",
       "      <th>test_neg_root_mean_squared_error</th>\n",
       "    </tr>\n",
       "  </thead>\n",
       "  <tbody>\n",
       "    <tr>\n",
       "      <th>1</th>\n",
       "      <td>0.2608</td>\n",
       "      <td>0.0200</td>\n",
       "      <td>-432633459048409311739904.0000</td>\n",
       "      <td>-103016832612473.4375</td>\n",
       "      <td>-23655190728737015276456382562304.0000</td>\n",
       "      <td>-4863660219293389.0000</td>\n",
       "    </tr>\n",
       "    <tr>\n",
       "      <th>2</th>\n",
       "      <td>0.3508</td>\n",
       "      <td>0.0060</td>\n",
       "      <td>0.8871</td>\n",
       "      <td>-1718.5654</td>\n",
       "      <td>-5781361.4247</td>\n",
       "      <td>-2404.4462</td>\n",
       "    </tr>\n",
       "    <tr>\n",
       "      <th>3</th>\n",
       "      <td>0.3833</td>\n",
       "      <td>0.0040</td>\n",
       "      <td>0.8714</td>\n",
       "      <td>-1777.2587</td>\n",
       "      <td>-6389211.0602</td>\n",
       "      <td>-2527.6889</td>\n",
       "    </tr>\n",
       "    <tr>\n",
       "      <th>4</th>\n",
       "      <td>0.2618</td>\n",
       "      <td>0.0050</td>\n",
       "      <td>-11527333052448631685120.0000</td>\n",
       "      <td>-18166730024210.9570</td>\n",
       "      <td>-735307017581178420273629626368.0000</td>\n",
       "      <td>-857500447569083.5000</td>\n",
       "    </tr>\n",
       "    <tr>\n",
       "      <th>5</th>\n",
       "      <td>0.2738</td>\n",
       "      <td>0.0040</td>\n",
       "      <td>0.8787</td>\n",
       "      <td>-1749.9005</td>\n",
       "      <td>-6344618.1963</td>\n",
       "      <td>-2518.8526</td>\n",
       "    </tr>\n",
       "  </tbody>\n",
       "</table>\n",
       "</div>"
      ],
      "text/plain": [
       "   fit_time  score_time                        test_r2  \\\n",
       "1    0.2608      0.0200 -432633459048409311739904.0000   \n",
       "2    0.3508      0.0060                         0.8871   \n",
       "3    0.3833      0.0040                         0.8714   \n",
       "4    0.2618      0.0050  -11527333052448631685120.0000   \n",
       "5    0.2738      0.0040                         0.8787   \n",
       "\n",
       "   test_neg_mean_absolute_error            test_neg_mean_squared_error  \\\n",
       "1         -103016832612473.4375 -23655190728737015276456382562304.0000   \n",
       "2                    -1718.5654                          -5781361.4247   \n",
       "3                    -1777.2587                          -6389211.0602   \n",
       "4          -18166730024210.9570   -735307017581178420273629626368.0000   \n",
       "5                    -1749.9005                          -6344618.1963   \n",
       "\n",
       "   test_neg_root_mean_squared_error  \n",
       "1            -4863660219293389.0000  \n",
       "2                        -2404.4462  \n",
       "3                        -2527.6889  \n",
       "4             -857500447569083.5000  \n",
       "5                        -2518.8526  "
      ]
     },
     "execution_count": 36,
     "metadata": {},
     "output_type": "execute_result"
    }
   ],
   "source": [
    "pd.DataFrame(scores, index = range(1,6))"
   ]
  },
  {
   "cell_type": "markdown",
   "metadata": {
    "id": "n2ROwYsymqZO"
   },
   "source": [
    "## 4. Implement Ridge Regression"
   ]
  },
  {
   "cell_type": "markdown",
   "metadata": {
    "id": "3RvdF8CRmqZO"
   },
   "source": [
    "- Import the modul \n",
    "- Do not forget to scale the data or use Normalize parameter as True \n",
    "- Fit the model \n",
    "- Predict the test set \n",
    "- Evaluate model performance (use performance metrics for regression) \n",
    "- Tune alpha hiperparameter by using [cross validation](https://scikit-learn.org/stable/modules/generated/sklearn.linear_model.RidgeCV.html) and determine the optimal alpha value.\n",
    "- Fit the model and predict again with the new alpha value. "
   ]
  },
  {
   "cell_type": "code",
   "execution_count": null,
   "metadata": {
    "id": "CXm_zzZMmqZO"
   },
   "outputs": [],
   "source": [
    "from sklearn.linear_model import Ridge, RidgeCV"
   ]
  },
  {
   "cell_type": "code",
   "execution_count": null,
   "metadata": {},
   "outputs": [],
   "source": [
    "model = Ridge()"
   ]
  },
  {
   "cell_type": "code",
   "execution_count": null,
   "metadata": {},
   "outputs": [
    {
     "data": {
      "text/plain": [
       "Ridge()"
      ]
     },
     "execution_count": 51,
     "metadata": {},
     "output_type": "execute_result"
    }
   ],
   "source": [
    "model.fit(X_train_scaled, y_train)"
   ]
  },
  {
   "cell_type": "code",
   "execution_count": null,
   "metadata": {},
   "outputs": [],
   "source": [
    "y_pred = model.predict(X_test_scaled)\n",
    "y_train_pred = model.predict(X_train_scaled)"
   ]
  },
  {
   "cell_type": "code",
   "execution_count": null,
   "metadata": {},
   "outputs": [
    {
     "data": {
      "text/html": [
       "<div>\n",
       "<style scoped>\n",
       "    .dataframe tbody tr th:only-of-type {\n",
       "        vertical-align: middle;\n",
       "    }\n",
       "\n",
       "    .dataframe tbody tr th {\n",
       "        vertical-align: top;\n",
       "    }\n",
       "\n",
       "    .dataframe thead th {\n",
       "        text-align: right;\n",
       "    }\n",
       "</style>\n",
       "<table border=\"1\" class=\"dataframe\">\n",
       "  <thead>\n",
       "    <tr style=\"text-align: right;\">\n",
       "      <th></th>\n",
       "      <th>ridge_train</th>\n",
       "      <th>ridge_test</th>\n",
       "    </tr>\n",
       "  </thead>\n",
       "  <tbody>\n",
       "    <tr>\n",
       "      <th>R2</th>\n",
       "      <td>0.8857</td>\n",
       "      <td>0.8727</td>\n",
       "    </tr>\n",
       "    <tr>\n",
       "      <th>mae</th>\n",
       "      <td>1756.2983</td>\n",
       "      <td>1806.6997</td>\n",
       "    </tr>\n",
       "    <tr>\n",
       "      <th>mse</th>\n",
       "      <td>6253694.8650</td>\n",
       "      <td>6862297.0163</td>\n",
       "    </tr>\n",
       "    <tr>\n",
       "      <th>rmse</th>\n",
       "      <td>2500.7389</td>\n",
       "      <td>2619.5986</td>\n",
       "    </tr>\n",
       "  </tbody>\n",
       "</table>\n",
       "</div>"
      ],
      "text/plain": [
       "      ridge_train   ridge_test\n",
       "R2         0.8857       0.8727\n",
       "mae     1756.2983    1806.6997\n",
       "mse  6253694.8650 6862297.0163\n",
       "rmse    2500.7389    2619.5986"
      ]
     },
     "execution_count": 53,
     "metadata": {},
     "output_type": "execute_result"
    }
   ],
   "source": [
    "rm = train_val(y_train, y_train_pred, y_test, y_pred, \"ridge\")\n",
    "rm"
   ]
  },
  {
   "cell_type": "code",
   "execution_count": null,
   "metadata": {},
   "outputs": [],
   "source": [
    "model = RidgeCV(alphas = np.linspace(0.01,1,20), cv = 5, scoring= \"neg_root_mean_squared_error\")"
   ]
  },
  {
   "cell_type": "code",
   "execution_count": null,
   "metadata": {},
   "outputs": [
    {
     "data": {
      "text/plain": [
       "RidgeCV(alphas=array([0.01      , 0.06210526, 0.11421053, 0.16631579, 0.21842105,\n",
       "       0.27052632, 0.32263158, 0.37473684, 0.42684211, 0.47894737,\n",
       "       0.53105263, 0.58315789, 0.63526316, 0.68736842, 0.73947368,\n",
       "       0.79157895, 0.84368421, 0.89578947, 0.94789474, 1.        ]),\n",
       "        cv=5, scoring='neg_root_mean_squared_error')"
      ]
     },
     "execution_count": 59,
     "metadata": {},
     "output_type": "execute_result"
    }
   ],
   "source": [
    "model.fit(X_train_scaled, y_train)"
   ]
  },
  {
   "cell_type": "code",
   "execution_count": null,
   "metadata": {},
   "outputs": [
    {
     "data": {
      "text/plain": [
       "1.0"
      ]
     },
     "execution_count": 62,
     "metadata": {},
     "output_type": "execute_result"
    }
   ],
   "source": [
    "model.alpha_"
   ]
  },
  {
   "cell_type": "code",
   "execution_count": null,
   "metadata": {},
   "outputs": [],
   "source": [
    "y_pred = model.predict(X_test_scaled)\n",
    "y_train_pred = model.predict(X_train_scaled)"
   ]
  },
  {
   "cell_type": "code",
   "execution_count": null,
   "metadata": {},
   "outputs": [
    {
     "data": {
      "text/html": [
       "<div>\n",
       "<style scoped>\n",
       "    .dataframe tbody tr th:only-of-type {\n",
       "        vertical-align: middle;\n",
       "    }\n",
       "\n",
       "    .dataframe tbody tr th {\n",
       "        vertical-align: top;\n",
       "    }\n",
       "\n",
       "    .dataframe thead th {\n",
       "        text-align: right;\n",
       "    }\n",
       "</style>\n",
       "<table border=\"1\" class=\"dataframe\">\n",
       "  <thead>\n",
       "    <tr style=\"text-align: right;\">\n",
       "      <th></th>\n",
       "      <th>(α=1)_ridge_cv_train</th>\n",
       "      <th>(α=1)_ridge_cv_test</th>\n",
       "    </tr>\n",
       "  </thead>\n",
       "  <tbody>\n",
       "    <tr>\n",
       "      <th>R2</th>\n",
       "      <td>0.8857</td>\n",
       "      <td>0.8728</td>\n",
       "    </tr>\n",
       "    <tr>\n",
       "      <th>mae</th>\n",
       "      <td>1755.9052</td>\n",
       "      <td>1805.9431</td>\n",
       "    </tr>\n",
       "    <tr>\n",
       "      <th>mse</th>\n",
       "      <td>6253934.1233</td>\n",
       "      <td>6858091.7145</td>\n",
       "    </tr>\n",
       "    <tr>\n",
       "      <th>rmse</th>\n",
       "      <td>2500.7867</td>\n",
       "      <td>2618.7959</td>\n",
       "    </tr>\n",
       "  </tbody>\n",
       "</table>\n",
       "</div>"
      ],
      "text/plain": [
       "      (α=1)_ridge_cv_train  (α=1)_ridge_cv_test\n",
       "R2                  0.8857               0.8728\n",
       "mae              1755.9052            1805.9431\n",
       "mse           6253934.1233         6858091.7145\n",
       "rmse             2500.7867            2618.7959"
      ]
     },
     "execution_count": 75,
     "metadata": {},
     "output_type": "execute_result"
    }
   ],
   "source": [
    "rcv = train_val(y_train, y_train_pred, y_test, y_pred, \"(α=1)_ridge_cv\")\n",
    "rcv"
   ]
  },
  {
   "cell_type": "markdown",
   "metadata": {
    "id": "oDfXOSnpmqZO"
   },
   "source": [
    "## 5. Implement Lasso Regression"
   ]
  },
  {
   "cell_type": "markdown",
   "metadata": {
    "id": "icqyxzBymqZO"
   },
   "source": [
    "- Import the modul \n",
    "- Do not forget to scale the data or use Normalize parameter as True(If needed)\n",
    "- Fit the model \n",
    "- Predict the test set \n",
    "- Evaluate model performance (use performance metrics for regression) \n",
    "- Tune alpha hyperparameter by using [cross validation](https://scikit-learn.org/stable/modules/generated/sklearn.linear_model.LassoCV.html) and determine the optimal alpha value.\n",
    "- Fit the model and predict again with the new alpha value.\n",
    "- Compare different evaluation metrics\n",
    "\n",
    "*Note: To understand the importance of the alpha hyperparameter, you can observe the effects of different alpha values on feature coefficants.*"
   ]
  },
  {
   "cell_type": "code",
   "execution_count": null,
   "metadata": {
    "id": "KbGqu0u5mqZO"
   },
   "outputs": [],
   "source": [
    "from sklearn.linear_model import LassoCV"
   ]
  },
  {
   "cell_type": "code",
   "execution_count": null,
   "metadata": {},
   "outputs": [],
   "source": [
    "model = LassoCV(alphas = np.linspace(0.01,1,20), cv = 5, random_state = 24, max_iter = 1000)"
   ]
  },
  {
   "cell_type": "code",
   "execution_count": null,
   "metadata": {},
   "outputs": [
    {
     "data": {
      "text/plain": [
       "LassoCV(alphas=array([0.01      , 0.06210526, 0.11421053, 0.16631579, 0.21842105,\n",
       "       0.27052632, 0.32263158, 0.37473684, 0.42684211, 0.47894737,\n",
       "       0.53105263, 0.58315789, 0.63526316, 0.68736842, 0.73947368,\n",
       "       0.79157895, 0.84368421, 0.89578947, 0.94789474, 1.        ]),\n",
       "        cv=5, random_state=24)"
      ]
     },
     "execution_count": 69,
     "metadata": {},
     "output_type": "execute_result"
    }
   ],
   "source": [
    "model.fit(X_train_scaled, y_train)"
   ]
  },
  {
   "cell_type": "code",
   "execution_count": null,
   "metadata": {},
   "outputs": [
    {
     "data": {
      "text/plain": [
       "1.0"
      ]
     },
     "execution_count": 70,
     "metadata": {},
     "output_type": "execute_result"
    }
   ],
   "source": [
    "model.alpha_"
   ]
  },
  {
   "cell_type": "code",
   "execution_count": null,
   "metadata": {},
   "outputs": [],
   "source": [
    "y_pred = model.predict(X_test_scaled)\n",
    "y_train_pred = model.predict(X_train_scaled)"
   ]
  },
  {
   "cell_type": "code",
   "execution_count": null,
   "metadata": {},
   "outputs": [
    {
     "data": {
      "text/html": [
       "<div>\n",
       "<style scoped>\n",
       "    .dataframe tbody tr th:only-of-type {\n",
       "        vertical-align: middle;\n",
       "    }\n",
       "\n",
       "    .dataframe tbody tr th {\n",
       "        vertical-align: top;\n",
       "    }\n",
       "\n",
       "    .dataframe thead th {\n",
       "        text-align: right;\n",
       "    }\n",
       "</style>\n",
       "<table border=\"1\" class=\"dataframe\">\n",
       "  <thead>\n",
       "    <tr style=\"text-align: right;\">\n",
       "      <th></th>\n",
       "      <th>(α=1)_lasso_cv_train</th>\n",
       "      <th>(α=1)_lasso_cv_test</th>\n",
       "    </tr>\n",
       "  </thead>\n",
       "  <tbody>\n",
       "    <tr>\n",
       "      <th>R2</th>\n",
       "      <td>0.8857</td>\n",
       "      <td>0.8728</td>\n",
       "    </tr>\n",
       "    <tr>\n",
       "      <th>mae</th>\n",
       "      <td>1755.9052</td>\n",
       "      <td>1805.9431</td>\n",
       "    </tr>\n",
       "    <tr>\n",
       "      <th>mse</th>\n",
       "      <td>6253934.1233</td>\n",
       "      <td>6858091.7145</td>\n",
       "    </tr>\n",
       "    <tr>\n",
       "      <th>rmse</th>\n",
       "      <td>2500.7867</td>\n",
       "      <td>2618.7959</td>\n",
       "    </tr>\n",
       "  </tbody>\n",
       "</table>\n",
       "</div>"
      ],
      "text/plain": [
       "      (α=1)_lasso_cv_train  (α=1)_lasso_cv_test\n",
       "R2                  0.8857               0.8728\n",
       "mae              1755.9052            1805.9431\n",
       "mse           6253934.1233         6858091.7145\n",
       "rmse             2500.7867            2618.7959"
      ]
     },
     "execution_count": 74,
     "metadata": {},
     "output_type": "execute_result"
    }
   ],
   "source": [
    "lcv = train_val(y_train, y_train_pred, y_test, y_pred, \"(α=1)_lasso_cv\")\n",
    "lcv"
   ]
  },
  {
   "cell_type": "markdown",
   "metadata": {
    "id": "qpoOypMbmqZO"
   },
   "source": [
    "## 6. Implement Elastic-Net"
   ]
  },
  {
   "cell_type": "markdown",
   "metadata": {
    "id": "El7SNJUemqZO"
   },
   "source": [
    "- Import the modul \n",
    "- Do not forget to scale the data or use Normalize parameter as True(If needed)\n",
    "- Fit the model \n",
    "- Predict the test set \n",
    "- Evaluate model performance (use performance metrics for regression) \n",
    "- Tune alpha hyperparameter by using [GridSearchCV](https://scikit-learn.org/stable/modules/generated/sklearn.model_selection.GridSearchCV.html) and determine the optimal alpha value.\n",
    "- Fit the model and predict again with the new alpha value.\n",
    "- Compare different evaluation metrics"
   ]
  },
  {
   "cell_type": "code",
   "execution_count": null,
   "metadata": {
    "id": "XKVr6v2JmqZO"
   },
   "outputs": [],
   "source": [
    "from sklearn.linear_model import ElasticNet\n",
    "from sklearn.model_selection import GridSearchCV"
   ]
  },
  {
   "cell_type": "code",
   "execution_count": null,
   "metadata": {},
   "outputs": [],
   "source": [
    "elastic_model = ElasticNet(max_iter=1000, random_state=24)"
   ]
  },
  {
   "cell_type": "code",
   "execution_count": null,
   "metadata": {},
   "outputs": [],
   "source": [
    "param_grid = {\"alpha\":np.linspace(0.01, 1, 20),\n",
    "            \"l1_ratio\": np.linspace(0.1, 1, 10)}"
   ]
  },
  {
   "cell_type": "code",
   "execution_count": null,
   "metadata": {},
   "outputs": [],
   "source": [
    "grid_model = GridSearchCV(estimator = elastic_model, param_grid = param_grid, scoring = 'neg_root_mean_squared_error',\n",
    "                         cv =5, verbose =2)"
   ]
  },
  {
   "cell_type": "code",
   "execution_count": null,
   "metadata": {},
   "outputs": [
    {
     "name": "stdout",
     "output_type": "stream",
     "text": [
      "Fitting 5 folds for each of 200 candidates, totalling 1000 fits\n",
      "[CV] END ...........................alpha=0.01, l1_ratio=0.1; total time=   1.9s\n",
      "[CV] END ...........................alpha=0.01, l1_ratio=0.1; total time=   2.3s\n",
      "[CV] END ...........................alpha=0.01, l1_ratio=0.1; total time=   1.5s\n",
      "[CV] END ...........................alpha=0.01, l1_ratio=0.1; total time=   2.4s\n",
      "[CV] END ...........................alpha=0.01, l1_ratio=0.1; total time=   1.8s\n",
      "[CV] END ...........................alpha=0.01, l1_ratio=0.2; total time=   1.3s\n",
      "[CV] END ...........................alpha=0.01, l1_ratio=0.2; total time=   1.1s\n",
      "[CV] END ...........................alpha=0.01, l1_ratio=0.2; total time=   1.0s\n",
      "[CV] END ...........................alpha=0.01, l1_ratio=0.2; total time=   1.4s\n",
      "[CV] END ...........................alpha=0.01, l1_ratio=0.2; total time=   2.7s\n",
      "[CV] END ...........alpha=0.01, l1_ratio=0.30000000000000004; total time=   2.1s\n",
      "[CV] END ...........alpha=0.01, l1_ratio=0.30000000000000004; total time=   2.1s\n",
      "[CV] END ...........alpha=0.01, l1_ratio=0.30000000000000004; total time=   1.4s\n",
      "[CV] END ...........alpha=0.01, l1_ratio=0.30000000000000004; total time=   1.5s\n",
      "[CV] END ...........alpha=0.01, l1_ratio=0.30000000000000004; total time=   1.8s\n",
      "[CV] END ...........................alpha=0.01, l1_ratio=0.4; total time=   2.0s\n",
      "[CV] END ...........................alpha=0.01, l1_ratio=0.4; total time=   1.7s\n",
      "[CV] END ...........................alpha=0.01, l1_ratio=0.4; total time=   2.1s\n",
      "[CV] END ...........................alpha=0.01, l1_ratio=0.4; total time=   1.7s\n",
      "[CV] END ...........................alpha=0.01, l1_ratio=0.4; total time=   1.3s\n",
      "[CV] END ...........................alpha=0.01, l1_ratio=0.5; total time=   1.5s\n",
      "[CV] END ...........................alpha=0.01, l1_ratio=0.5; total time=   1.5s\n",
      "[CV] END ...........................alpha=0.01, l1_ratio=0.5; total time=   1.5s\n",
      "[CV] END ...........................alpha=0.01, l1_ratio=0.5; total time=   1.5s\n",
      "[CV] END ...........................alpha=0.01, l1_ratio=0.5; total time=   1.5s\n",
      "[CV] END ...........................alpha=0.01, l1_ratio=0.6; total time=   1.8s\n",
      "[CV] END ...........................alpha=0.01, l1_ratio=0.6; total time=   1.9s\n",
      "[CV] END ...........................alpha=0.01, l1_ratio=0.6; total time=   2.2s\n",
      "[CV] END ...........................alpha=0.01, l1_ratio=0.6; total time=   2.1s\n",
      "[CV] END ...........................alpha=0.01, l1_ratio=0.6; total time=   1.6s\n",
      "[CV] END ............alpha=0.01, l1_ratio=0.7000000000000001; total time=   1.8s\n",
      "[CV] END ............alpha=0.01, l1_ratio=0.7000000000000001; total time=   1.6s\n",
      "[CV] END ............alpha=0.01, l1_ratio=0.7000000000000001; total time=   1.5s\n",
      "[CV] END ............alpha=0.01, l1_ratio=0.7000000000000001; total time=   1.6s\n",
      "[CV] END ............alpha=0.01, l1_ratio=0.7000000000000001; total time=   1.5s\n",
      "[CV] END ...........................alpha=0.01, l1_ratio=0.8; total time=   1.6s\n",
      "[CV] END ...........................alpha=0.01, l1_ratio=0.8; total time=   1.5s\n",
      "[CV] END ...........................alpha=0.01, l1_ratio=0.8; total time=   1.5s\n",
      "[CV] END ...........................alpha=0.01, l1_ratio=0.8; total time=   1.5s\n",
      "[CV] END ...........................alpha=0.01, l1_ratio=0.8; total time=   1.5s\n",
      "[CV] END ...........................alpha=0.01, l1_ratio=0.9; total time=   1.5s\n",
      "[CV] END ...........................alpha=0.01, l1_ratio=0.9; total time=   1.5s\n",
      "[CV] END ...........................alpha=0.01, l1_ratio=0.9; total time=   1.5s\n",
      "[CV] END ...........................alpha=0.01, l1_ratio=0.9; total time=   1.5s\n",
      "[CV] END ...........................alpha=0.01, l1_ratio=0.9; total time=   1.5s\n",
      "[CV] END ...........................alpha=0.01, l1_ratio=1.0; total time=   1.7s\n",
      "[CV] END ...........................alpha=0.01, l1_ratio=1.0; total time=   1.7s\n",
      "[CV] END ...........................alpha=0.01, l1_ratio=1.0; total time=   1.7s\n",
      "[CV] END ...........................alpha=0.01, l1_ratio=1.0; total time=   2.1s\n",
      "[CV] END ...........................alpha=0.01, l1_ratio=1.0; total time=   2.1s\n",
      "[CV] END ............alpha=0.06210526315789474, l1_ratio=0.1; total time=   0.1s\n",
      "[CV] END ............alpha=0.06210526315789474, l1_ratio=0.1; total time=   0.3s\n",
      "[CV] END ............alpha=0.06210526315789474, l1_ratio=0.1; total time=   0.2s\n",
      "[CV] END ............alpha=0.06210526315789474, l1_ratio=0.1; total time=   0.3s\n",
      "[CV] END ............alpha=0.06210526315789474, l1_ratio=0.1; total time=   0.2s\n",
      "[CV] END ............alpha=0.06210526315789474, l1_ratio=0.2; total time=   0.2s\n",
      "[CV] END ............alpha=0.06210526315789474, l1_ratio=0.2; total time=   0.1s\n",
      "[CV] END ............alpha=0.06210526315789474, l1_ratio=0.2; total time=   0.1s\n",
      "[CV] END ............alpha=0.06210526315789474, l1_ratio=0.2; total time=   0.2s\n",
      "[CV] END ............alpha=0.06210526315789474, l1_ratio=0.2; total time=   0.2s\n",
      "[CV] END alpha=0.06210526315789474, l1_ratio=0.30000000000000004; total time=   0.1s\n",
      "[CV] END alpha=0.06210526315789474, l1_ratio=0.30000000000000004; total time=   0.1s\n",
      "[CV] END alpha=0.06210526315789474, l1_ratio=0.30000000000000004; total time=   0.1s\n",
      "[CV] END alpha=0.06210526315789474, l1_ratio=0.30000000000000004; total time=   0.1s\n",
      "[CV] END alpha=0.06210526315789474, l1_ratio=0.30000000000000004; total time=   0.2s\n",
      "[CV] END ............alpha=0.06210526315789474, l1_ratio=0.4; total time=   0.1s\n",
      "[CV] END ............alpha=0.06210526315789474, l1_ratio=0.4; total time=   0.1s\n",
      "[CV] END ............alpha=0.06210526315789474, l1_ratio=0.4; total time=   0.1s\n",
      "[CV] END ............alpha=0.06210526315789474, l1_ratio=0.4; total time=   0.1s\n",
      "[CV] END ............alpha=0.06210526315789474, l1_ratio=0.4; total time=   0.1s\n",
      "[CV] END ............alpha=0.06210526315789474, l1_ratio=0.5; total time=   0.2s\n",
      "[CV] END ............alpha=0.06210526315789474, l1_ratio=0.5; total time=   0.2s\n",
      "[CV] END ............alpha=0.06210526315789474, l1_ratio=0.5; total time=   0.2s\n",
      "[CV] END ............alpha=0.06210526315789474, l1_ratio=0.5; total time=   0.2s\n",
      "[CV] END ............alpha=0.06210526315789474, l1_ratio=0.5; total time=   0.1s\n",
      "[CV] END ............alpha=0.06210526315789474, l1_ratio=0.6; total time=   0.2s\n",
      "[CV] END ............alpha=0.06210526315789474, l1_ratio=0.6; total time=   0.2s\n",
      "[CV] END ............alpha=0.06210526315789474, l1_ratio=0.6; total time=   0.2s\n",
      "[CV] END ............alpha=0.06210526315789474, l1_ratio=0.6; total time=   0.2s\n",
      "[CV] END ............alpha=0.06210526315789474, l1_ratio=0.6; total time=   0.2s\n",
      "[CV] END alpha=0.06210526315789474, l1_ratio=0.7000000000000001; total time=   0.3s\n",
      "[CV] END alpha=0.06210526315789474, l1_ratio=0.7000000000000001; total time=   0.3s\n",
      "[CV] END alpha=0.06210526315789474, l1_ratio=0.7000000000000001; total time=   0.3s\n",
      "[CV] END alpha=0.06210526315789474, l1_ratio=0.7000000000000001; total time=   0.3s\n",
      "[CV] END alpha=0.06210526315789474, l1_ratio=0.7000000000000001; total time=   0.3s\n",
      "[CV] END ............alpha=0.06210526315789474, l1_ratio=0.8; total time=   0.4s\n",
      "[CV] END ............alpha=0.06210526315789474, l1_ratio=0.8; total time=   0.4s\n",
      "[CV] END ............alpha=0.06210526315789474, l1_ratio=0.8; total time=   0.4s\n",
      "[CV] END ............alpha=0.06210526315789474, l1_ratio=0.8; total time=   0.4s\n",
      "[CV] END ............alpha=0.06210526315789474, l1_ratio=0.8; total time=   0.4s\n",
      "[CV] END ............alpha=0.06210526315789474, l1_ratio=0.9; total time=   0.8s\n",
      "[CV] END ............alpha=0.06210526315789474, l1_ratio=0.9; total time=   0.8s\n",
      "[CV] END ............alpha=0.06210526315789474, l1_ratio=0.9; total time=   0.8s\n",
      "[CV] END ............alpha=0.06210526315789474, l1_ratio=0.9; total time=   0.9s\n",
      "[CV] END ............alpha=0.06210526315789474, l1_ratio=0.9; total time=   0.9s\n",
      "[CV] END ............alpha=0.06210526315789474, l1_ratio=1.0; total time=   1.7s\n",
      "[CV] END ............alpha=0.06210526315789474, l1_ratio=1.0; total time=   1.7s\n",
      "[CV] END ............alpha=0.06210526315789474, l1_ratio=1.0; total time=   1.7s\n",
      "[CV] END ............alpha=0.06210526315789474, l1_ratio=1.0; total time=   1.6s\n",
      "[CV] END ............alpha=0.06210526315789474, l1_ratio=1.0; total time=   1.6s\n"
     ]
    },
    {
     "name": "stdout",
     "output_type": "stream",
     "text": [
      "[CV] END ............alpha=0.11421052631578947, l1_ratio=0.1; total time=   0.2s\n",
      "[CV] END ............alpha=0.11421052631578947, l1_ratio=0.1; total time=   0.3s\n",
      "[CV] END ............alpha=0.11421052631578947, l1_ratio=0.1; total time=   0.1s\n",
      "[CV] END ............alpha=0.11421052631578947, l1_ratio=0.1; total time=   0.1s\n",
      "[CV] END ............alpha=0.11421052631578947, l1_ratio=0.1; total time=   0.1s\n",
      "[CV] END ............alpha=0.11421052631578947, l1_ratio=0.2; total time=   0.1s\n",
      "[CV] END ............alpha=0.11421052631578947, l1_ratio=0.2; total time=   0.1s\n",
      "[CV] END ............alpha=0.11421052631578947, l1_ratio=0.2; total time=   0.1s\n",
      "[CV] END ............alpha=0.11421052631578947, l1_ratio=0.2; total time=   0.1s\n",
      "[CV] END ............alpha=0.11421052631578947, l1_ratio=0.2; total time=   0.1s\n",
      "[CV] END alpha=0.11421052631578947, l1_ratio=0.30000000000000004; total time=   0.1s\n",
      "[CV] END alpha=0.11421052631578947, l1_ratio=0.30000000000000004; total time=   0.1s\n",
      "[CV] END alpha=0.11421052631578947, l1_ratio=0.30000000000000004; total time=   0.1s\n",
      "[CV] END alpha=0.11421052631578947, l1_ratio=0.30000000000000004; total time=   0.1s\n",
      "[CV] END alpha=0.11421052631578947, l1_ratio=0.30000000000000004; total time=   0.1s\n",
      "[CV] END ............alpha=0.11421052631578947, l1_ratio=0.4; total time=   0.1s\n",
      "[CV] END ............alpha=0.11421052631578947, l1_ratio=0.4; total time=   0.1s\n",
      "[CV] END ............alpha=0.11421052631578947, l1_ratio=0.4; total time=   0.1s\n",
      "[CV] END ............alpha=0.11421052631578947, l1_ratio=0.4; total time=   0.1s\n",
      "[CV] END ............alpha=0.11421052631578947, l1_ratio=0.4; total time=   0.1s\n",
      "[CV] END ............alpha=0.11421052631578947, l1_ratio=0.5; total time=   0.1s\n",
      "[CV] END ............alpha=0.11421052631578947, l1_ratio=0.5; total time=   0.2s\n",
      "[CV] END ............alpha=0.11421052631578947, l1_ratio=0.5; total time=   0.1s\n",
      "[CV] END ............alpha=0.11421052631578947, l1_ratio=0.5; total time=   0.1s\n",
      "[CV] END ............alpha=0.11421052631578947, l1_ratio=0.5; total time=   0.2s\n",
      "[CV] END ............alpha=0.11421052631578947, l1_ratio=0.6; total time=   0.2s\n",
      "[CV] END ............alpha=0.11421052631578947, l1_ratio=0.6; total time=   0.2s\n",
      "[CV] END ............alpha=0.11421052631578947, l1_ratio=0.6; total time=   0.1s\n",
      "[CV] END ............alpha=0.11421052631578947, l1_ratio=0.6; total time=   0.1s\n",
      "[CV] END ............alpha=0.11421052631578947, l1_ratio=0.6; total time=   0.1s\n",
      "[CV] END alpha=0.11421052631578947, l1_ratio=0.7000000000000001; total time=   0.1s\n",
      "[CV] END alpha=0.11421052631578947, l1_ratio=0.7000000000000001; total time=   0.1s\n",
      "[CV] END alpha=0.11421052631578947, l1_ratio=0.7000000000000001; total time=   0.1s\n",
      "[CV] END alpha=0.11421052631578947, l1_ratio=0.7000000000000001; total time=   0.1s\n",
      "[CV] END alpha=0.11421052631578947, l1_ratio=0.7000000000000001; total time=   0.1s\n",
      "[CV] END ............alpha=0.11421052631578947, l1_ratio=0.8; total time=   0.2s\n",
      "[CV] END ............alpha=0.11421052631578947, l1_ratio=0.8; total time=   0.2s\n",
      "[CV] END ............alpha=0.11421052631578947, l1_ratio=0.8; total time=   0.2s\n",
      "[CV] END ............alpha=0.11421052631578947, l1_ratio=0.8; total time=   0.2s\n",
      "[CV] END ............alpha=0.11421052631578947, l1_ratio=0.8; total time=   0.2s\n",
      "[CV] END ............alpha=0.11421052631578947, l1_ratio=0.9; total time=   0.4s\n",
      "[CV] END ............alpha=0.11421052631578947, l1_ratio=0.9; total time=   0.4s\n",
      "[CV] END ............alpha=0.11421052631578947, l1_ratio=0.9; total time=   0.4s\n",
      "[CV] END ............alpha=0.11421052631578947, l1_ratio=0.9; total time=   0.4s\n",
      "[CV] END ............alpha=0.11421052631578947, l1_ratio=0.9; total time=   0.6s\n",
      "[CV] END ............alpha=0.11421052631578947, l1_ratio=1.0; total time=   2.2s\n",
      "[CV] END ............alpha=0.11421052631578947, l1_ratio=1.0; total time=   1.7s\n",
      "[CV] END ............alpha=0.11421052631578947, l1_ratio=1.0; total time=   1.6s\n",
      "[CV] END ............alpha=0.11421052631578947, l1_ratio=1.0; total time=   1.6s\n",
      "[CV] END ............alpha=0.11421052631578947, l1_ratio=1.0; total time=   1.7s\n",
      "[CV] END ............alpha=0.16631578947368422, l1_ratio=0.1; total time=   0.1s\n",
      "[CV] END ............alpha=0.16631578947368422, l1_ratio=0.1; total time=   0.1s\n",
      "[CV] END ............alpha=0.16631578947368422, l1_ratio=0.1; total time=   0.1s\n",
      "[CV] END ............alpha=0.16631578947368422, l1_ratio=0.1; total time=   0.1s\n",
      "[CV] END ............alpha=0.16631578947368422, l1_ratio=0.1; total time=   0.1s\n",
      "[CV] END ............alpha=0.16631578947368422, l1_ratio=0.2; total time=   0.1s\n",
      "[CV] END ............alpha=0.16631578947368422, l1_ratio=0.2; total time=   0.1s\n",
      "[CV] END ............alpha=0.16631578947368422, l1_ratio=0.2; total time=   0.1s\n",
      "[CV] END ............alpha=0.16631578947368422, l1_ratio=0.2; total time=   0.1s\n",
      "[CV] END ............alpha=0.16631578947368422, l1_ratio=0.2; total time=   0.1s\n",
      "[CV] END alpha=0.16631578947368422, l1_ratio=0.30000000000000004; total time=   0.1s\n",
      "[CV] END alpha=0.16631578947368422, l1_ratio=0.30000000000000004; total time=   0.2s\n",
      "[CV] END alpha=0.16631578947368422, l1_ratio=0.30000000000000004; total time=   0.2s\n",
      "[CV] END alpha=0.16631578947368422, l1_ratio=0.30000000000000004; total time=   0.1s\n",
      "[CV] END alpha=0.16631578947368422, l1_ratio=0.30000000000000004; total time=   0.1s\n",
      "[CV] END ............alpha=0.16631578947368422, l1_ratio=0.4; total time=   0.1s\n",
      "[CV] END ............alpha=0.16631578947368422, l1_ratio=0.4; total time=   0.2s\n",
      "[CV] END ............alpha=0.16631578947368422, l1_ratio=0.4; total time=   0.2s\n",
      "[CV] END ............alpha=0.16631578947368422, l1_ratio=0.4; total time=   0.1s\n",
      "[CV] END ............alpha=0.16631578947368422, l1_ratio=0.4; total time=   0.1s\n",
      "[CV] END ............alpha=0.16631578947368422, l1_ratio=0.5; total time=   0.1s\n",
      "[CV] END ............alpha=0.16631578947368422, l1_ratio=0.5; total time=   0.1s\n",
      "[CV] END ............alpha=0.16631578947368422, l1_ratio=0.5; total time=   0.1s\n",
      "[CV] END ............alpha=0.16631578947368422, l1_ratio=0.5; total time=   0.1s\n",
      "[CV] END ............alpha=0.16631578947368422, l1_ratio=0.5; total time=   0.1s\n",
      "[CV] END ............alpha=0.16631578947368422, l1_ratio=0.6; total time=   0.1s\n",
      "[CV] END ............alpha=0.16631578947368422, l1_ratio=0.6; total time=   0.1s\n",
      "[CV] END ............alpha=0.16631578947368422, l1_ratio=0.6; total time=   0.1s\n",
      "[CV] END ............alpha=0.16631578947368422, l1_ratio=0.6; total time=   0.1s\n",
      "[CV] END ............alpha=0.16631578947368422, l1_ratio=0.6; total time=   0.1s\n",
      "[CV] END alpha=0.16631578947368422, l1_ratio=0.7000000000000001; total time=   0.1s\n",
      "[CV] END alpha=0.16631578947368422, l1_ratio=0.7000000000000001; total time=   0.1s\n",
      "[CV] END alpha=0.16631578947368422, l1_ratio=0.7000000000000001; total time=   0.1s\n",
      "[CV] END alpha=0.16631578947368422, l1_ratio=0.7000000000000001; total time=   0.1s\n",
      "[CV] END alpha=0.16631578947368422, l1_ratio=0.7000000000000001; total time=   0.1s\n",
      "[CV] END ............alpha=0.16631578947368422, l1_ratio=0.8; total time=   0.1s\n",
      "[CV] END ............alpha=0.16631578947368422, l1_ratio=0.8; total time=   0.1s\n",
      "[CV] END ............alpha=0.16631578947368422, l1_ratio=0.8; total time=   0.1s\n",
      "[CV] END ............alpha=0.16631578947368422, l1_ratio=0.8; total time=   0.1s\n",
      "[CV] END ............alpha=0.16631578947368422, l1_ratio=0.8; total time=   0.1s\n",
      "[CV] END ............alpha=0.16631578947368422, l1_ratio=0.9; total time=   0.2s\n",
      "[CV] END ............alpha=0.16631578947368422, l1_ratio=0.9; total time=   0.2s\n",
      "[CV] END ............alpha=0.16631578947368422, l1_ratio=0.9; total time=   0.2s\n",
      "[CV] END ............alpha=0.16631578947368422, l1_ratio=0.9; total time=   0.2s\n",
      "[CV] END ............alpha=0.16631578947368422, l1_ratio=0.9; total time=   0.2s\n",
      "[CV] END ............alpha=0.16631578947368422, l1_ratio=1.0; total time=   1.6s\n",
      "[CV] END ............alpha=0.16631578947368422, l1_ratio=1.0; total time=   1.5s\n",
      "[CV] END ............alpha=0.16631578947368422, l1_ratio=1.0; total time=   1.8s\n",
      "[CV] END ............alpha=0.16631578947368422, l1_ratio=1.0; total time=   2.5s\n",
      "[CV] END ............alpha=0.16631578947368422, l1_ratio=1.0; total time=   2.3s\n",
      "[CV] END ............alpha=0.21842105263157896, l1_ratio=0.1; total time=   0.1s\n"
     ]
    },
    {
     "name": "stdout",
     "output_type": "stream",
     "text": [
      "[CV] END ............alpha=0.21842105263157896, l1_ratio=0.1; total time=   0.1s\n",
      "[CV] END ............alpha=0.21842105263157896, l1_ratio=0.1; total time=   0.1s\n",
      "[CV] END ............alpha=0.21842105263157896, l1_ratio=0.1; total time=   0.1s\n",
      "[CV] END ............alpha=0.21842105263157896, l1_ratio=0.1; total time=   0.1s\n",
      "[CV] END ............alpha=0.21842105263157896, l1_ratio=0.2; total time=   0.1s\n",
      "[CV] END ............alpha=0.21842105263157896, l1_ratio=0.2; total time=   0.1s\n",
      "[CV] END ............alpha=0.21842105263157896, l1_ratio=0.2; total time=   0.1s\n",
      "[CV] END ............alpha=0.21842105263157896, l1_ratio=0.2; total time=   0.1s\n",
      "[CV] END ............alpha=0.21842105263157896, l1_ratio=0.2; total time=   0.1s\n",
      "[CV] END alpha=0.21842105263157896, l1_ratio=0.30000000000000004; total time=   0.1s\n",
      "[CV] END alpha=0.21842105263157896, l1_ratio=0.30000000000000004; total time=   0.1s\n",
      "[CV] END alpha=0.21842105263157896, l1_ratio=0.30000000000000004; total time=   0.1s\n",
      "[CV] END alpha=0.21842105263157896, l1_ratio=0.30000000000000004; total time=   0.1s\n",
      "[CV] END alpha=0.21842105263157896, l1_ratio=0.30000000000000004; total time=   0.1s\n",
      "[CV] END ............alpha=0.21842105263157896, l1_ratio=0.4; total time=   0.1s\n",
      "[CV] END ............alpha=0.21842105263157896, l1_ratio=0.4; total time=   0.1s\n",
      "[CV] END ............alpha=0.21842105263157896, l1_ratio=0.4; total time=   0.1s\n",
      "[CV] END ............alpha=0.21842105263157896, l1_ratio=0.4; total time=   0.1s\n",
      "[CV] END ............alpha=0.21842105263157896, l1_ratio=0.4; total time=   0.1s\n",
      "[CV] END ............alpha=0.21842105263157896, l1_ratio=0.5; total time=   0.1s\n",
      "[CV] END ............alpha=0.21842105263157896, l1_ratio=0.5; total time=   0.1s\n",
      "[CV] END ............alpha=0.21842105263157896, l1_ratio=0.5; total time=   0.1s\n",
      "[CV] END ............alpha=0.21842105263157896, l1_ratio=0.5; total time=   0.1s\n",
      "[CV] END ............alpha=0.21842105263157896, l1_ratio=0.5; total time=   0.1s\n",
      "[CV] END ............alpha=0.21842105263157896, l1_ratio=0.6; total time=   0.1s\n",
      "[CV] END ............alpha=0.21842105263157896, l1_ratio=0.6; total time=   0.1s\n",
      "[CV] END ............alpha=0.21842105263157896, l1_ratio=0.6; total time=   0.1s\n",
      "[CV] END ............alpha=0.21842105263157896, l1_ratio=0.6; total time=   0.1s\n",
      "[CV] END ............alpha=0.21842105263157896, l1_ratio=0.6; total time=   0.1s\n",
      "[CV] END alpha=0.21842105263157896, l1_ratio=0.7000000000000001; total time=   0.1s\n",
      "[CV] END alpha=0.21842105263157896, l1_ratio=0.7000000000000001; total time=   0.1s\n",
      "[CV] END alpha=0.21842105263157896, l1_ratio=0.7000000000000001; total time=   0.1s\n",
      "[CV] END alpha=0.21842105263157896, l1_ratio=0.7000000000000001; total time=   0.1s\n",
      "[CV] END alpha=0.21842105263157896, l1_ratio=0.7000000000000001; total time=   0.1s\n",
      "[CV] END ............alpha=0.21842105263157896, l1_ratio=0.8; total time=   0.1s\n",
      "[CV] END ............alpha=0.21842105263157896, l1_ratio=0.8; total time=   0.1s\n",
      "[CV] END ............alpha=0.21842105263157896, l1_ratio=0.8; total time=   0.1s\n",
      "[CV] END ............alpha=0.21842105263157896, l1_ratio=0.8; total time=   0.1s\n",
      "[CV] END ............alpha=0.21842105263157896, l1_ratio=0.8; total time=   0.1s\n",
      "[CV] END ............alpha=0.21842105263157896, l1_ratio=0.9; total time=   0.5s\n",
      "[CV] END ............alpha=0.21842105263157896, l1_ratio=0.9; total time=   0.5s\n",
      "[CV] END ............alpha=0.21842105263157896, l1_ratio=0.9; total time=   0.4s\n",
      "[CV] END ............alpha=0.21842105263157896, l1_ratio=0.9; total time=   0.6s\n",
      "[CV] END ............alpha=0.21842105263157896, l1_ratio=0.9; total time=   0.4s\n",
      "[CV] END ............alpha=0.21842105263157896, l1_ratio=1.0; total time=   1.6s\n",
      "[CV] END ............alpha=0.21842105263157896, l1_ratio=1.0; total time=   1.6s\n",
      "[CV] END ............alpha=0.21842105263157896, l1_ratio=1.0; total time=   3.7s\n",
      "[CV] END ............alpha=0.21842105263157896, l1_ratio=1.0; total time=   4.6s\n",
      "[CV] END ............alpha=0.21842105263157896, l1_ratio=1.0; total time=   4.7s\n",
      "[CV] END .............alpha=0.2705263157894737, l1_ratio=0.1; total time=   0.4s\n",
      "[CV] END .............alpha=0.2705263157894737, l1_ratio=0.1; total time=   0.4s\n",
      "[CV] END .............alpha=0.2705263157894737, l1_ratio=0.1; total time=   0.3s\n",
      "[CV] END .............alpha=0.2705263157894737, l1_ratio=0.1; total time=   0.1s\n",
      "[CV] END .............alpha=0.2705263157894737, l1_ratio=0.1; total time=   0.1s\n",
      "[CV] END .............alpha=0.2705263157894737, l1_ratio=0.2; total time=   0.1s\n",
      "[CV] END .............alpha=0.2705263157894737, l1_ratio=0.2; total time=   0.1s\n",
      "[CV] END .............alpha=0.2705263157894737, l1_ratio=0.2; total time=   0.1s\n",
      "[CV] END .............alpha=0.2705263157894737, l1_ratio=0.2; total time=   0.2s\n",
      "[CV] END .............alpha=0.2705263157894737, l1_ratio=0.2; total time=   0.1s\n",
      "[CV] END alpha=0.2705263157894737, l1_ratio=0.30000000000000004; total time=   0.2s\n",
      "[CV] END alpha=0.2705263157894737, l1_ratio=0.30000000000000004; total time=   0.1s\n",
      "[CV] END alpha=0.2705263157894737, l1_ratio=0.30000000000000004; total time=   0.1s\n",
      "[CV] END alpha=0.2705263157894737, l1_ratio=0.30000000000000004; total time=   0.1s\n",
      "[CV] END alpha=0.2705263157894737, l1_ratio=0.30000000000000004; total time=   0.1s\n",
      "[CV] END .............alpha=0.2705263157894737, l1_ratio=0.4; total time=   0.1s\n",
      "[CV] END .............alpha=0.2705263157894737, l1_ratio=0.4; total time=   0.1s\n",
      "[CV] END .............alpha=0.2705263157894737, l1_ratio=0.4; total time=   0.1s\n",
      "[CV] END .............alpha=0.2705263157894737, l1_ratio=0.4; total time=   0.1s\n",
      "[CV] END .............alpha=0.2705263157894737, l1_ratio=0.4; total time=   0.1s\n",
      "[CV] END .............alpha=0.2705263157894737, l1_ratio=0.5; total time=   0.1s\n",
      "[CV] END .............alpha=0.2705263157894737, l1_ratio=0.5; total time=   0.1s\n",
      "[CV] END .............alpha=0.2705263157894737, l1_ratio=0.5; total time=   0.1s\n",
      "[CV] END .............alpha=0.2705263157894737, l1_ratio=0.5; total time=   0.1s\n",
      "[CV] END .............alpha=0.2705263157894737, l1_ratio=0.5; total time=   0.4s\n",
      "[CV] END .............alpha=0.2705263157894737, l1_ratio=0.6; total time=   0.4s\n",
      "[CV] END .............alpha=0.2705263157894737, l1_ratio=0.6; total time=   0.3s\n",
      "[CV] END .............alpha=0.2705263157894737, l1_ratio=0.6; total time=   1.2s\n",
      "[CV] END .............alpha=0.2705263157894737, l1_ratio=0.6; total time=   1.1s\n",
      "[CV] END .............alpha=0.2705263157894737, l1_ratio=0.6; total time=   0.7s\n",
      "[CV] END alpha=0.2705263157894737, l1_ratio=0.7000000000000001; total time=   0.2s\n",
      "[CV] END alpha=0.2705263157894737, l1_ratio=0.7000000000000001; total time=   0.1s\n",
      "[CV] END alpha=0.2705263157894737, l1_ratio=0.7000000000000001; total time=   0.1s\n",
      "[CV] END alpha=0.2705263157894737, l1_ratio=0.7000000000000001; total time=   0.1s\n",
      "[CV] END alpha=0.2705263157894737, l1_ratio=0.7000000000000001; total time=   0.1s\n",
      "[CV] END .............alpha=0.2705263157894737, l1_ratio=0.8; total time=   0.1s\n",
      "[CV] END .............alpha=0.2705263157894737, l1_ratio=0.8; total time=   0.1s\n",
      "[CV] END .............alpha=0.2705263157894737, l1_ratio=0.8; total time=   0.1s\n",
      "[CV] END .............alpha=0.2705263157894737, l1_ratio=0.8; total time=   0.1s\n",
      "[CV] END .............alpha=0.2705263157894737, l1_ratio=0.8; total time=   0.1s\n",
      "[CV] END .............alpha=0.2705263157894737, l1_ratio=0.9; total time=   0.1s\n",
      "[CV] END .............alpha=0.2705263157894737, l1_ratio=0.9; total time=   0.1s\n",
      "[CV] END .............alpha=0.2705263157894737, l1_ratio=0.9; total time=   0.1s\n",
      "[CV] END .............alpha=0.2705263157894737, l1_ratio=0.9; total time=   0.1s\n",
      "[CV] END .............alpha=0.2705263157894737, l1_ratio=0.9; total time=   0.1s\n",
      "[CV] END .............alpha=0.2705263157894737, l1_ratio=1.0; total time=   1.6s\n",
      "[CV] END .............alpha=0.2705263157894737, l1_ratio=1.0; total time=   1.6s\n",
      "[CV] END .............alpha=0.2705263157894737, l1_ratio=1.0; total time=   1.6s\n",
      "[CV] END .............alpha=0.2705263157894737, l1_ratio=1.0; total time=   1.5s\n",
      "[CV] END .............alpha=0.2705263157894737, l1_ratio=1.0; total time=   1.6s\n",
      "[CV] END ............alpha=0.32263157894736844, l1_ratio=0.1; total time=   0.1s\n",
      "[CV] END ............alpha=0.32263157894736844, l1_ratio=0.1; total time=   0.1s\n",
      "[CV] END ............alpha=0.32263157894736844, l1_ratio=0.1; total time=   0.1s\n"
     ]
    },
    {
     "name": "stdout",
     "output_type": "stream",
     "text": [
      "[CV] END ............alpha=0.32263157894736844, l1_ratio=0.1; total time=   0.1s\n",
      "[CV] END ............alpha=0.32263157894736844, l1_ratio=0.1; total time=   0.1s\n",
      "[CV] END ............alpha=0.32263157894736844, l1_ratio=0.2; total time=   0.1s\n",
      "[CV] END ............alpha=0.32263157894736844, l1_ratio=0.2; total time=   0.1s\n",
      "[CV] END ............alpha=0.32263157894736844, l1_ratio=0.2; total time=   0.1s\n",
      "[CV] END ............alpha=0.32263157894736844, l1_ratio=0.2; total time=   0.1s\n",
      "[CV] END ............alpha=0.32263157894736844, l1_ratio=0.2; total time=   0.1s\n",
      "[CV] END alpha=0.32263157894736844, l1_ratio=0.30000000000000004; total time=   0.1s\n",
      "[CV] END alpha=0.32263157894736844, l1_ratio=0.30000000000000004; total time=   0.1s\n",
      "[CV] END alpha=0.32263157894736844, l1_ratio=0.30000000000000004; total time=   0.1s\n",
      "[CV] END alpha=0.32263157894736844, l1_ratio=0.30000000000000004; total time=   0.1s\n",
      "[CV] END alpha=0.32263157894736844, l1_ratio=0.30000000000000004; total time=   0.1s\n",
      "[CV] END ............alpha=0.32263157894736844, l1_ratio=0.4; total time=   0.1s\n",
      "[CV] END ............alpha=0.32263157894736844, l1_ratio=0.4; total time=   0.1s\n",
      "[CV] END ............alpha=0.32263157894736844, l1_ratio=0.4; total time=   0.1s\n",
      "[CV] END ............alpha=0.32263157894736844, l1_ratio=0.4; total time=   0.1s\n",
      "[CV] END ............alpha=0.32263157894736844, l1_ratio=0.4; total time=   0.1s\n",
      "[CV] END ............alpha=0.32263157894736844, l1_ratio=0.5; total time=   0.1s\n",
      "[CV] END ............alpha=0.32263157894736844, l1_ratio=0.5; total time=   0.1s\n",
      "[CV] END ............alpha=0.32263157894736844, l1_ratio=0.5; total time=   0.1s\n",
      "[CV] END ............alpha=0.32263157894736844, l1_ratio=0.5; total time=   0.1s\n",
      "[CV] END ............alpha=0.32263157894736844, l1_ratio=0.5; total time=   0.2s\n",
      "[CV] END ............alpha=0.32263157894736844, l1_ratio=0.6; total time=   0.1s\n",
      "[CV] END ............alpha=0.32263157894736844, l1_ratio=0.6; total time=   0.1s\n",
      "[CV] END ............alpha=0.32263157894736844, l1_ratio=0.6; total time=   0.1s\n",
      "[CV] END ............alpha=0.32263157894736844, l1_ratio=0.6; total time=   0.1s\n",
      "[CV] END ............alpha=0.32263157894736844, l1_ratio=0.6; total time=   0.1s\n",
      "[CV] END alpha=0.32263157894736844, l1_ratio=0.7000000000000001; total time=   0.1s\n",
      "[CV] END alpha=0.32263157894736844, l1_ratio=0.7000000000000001; total time=   0.1s\n",
      "[CV] END alpha=0.32263157894736844, l1_ratio=0.7000000000000001; total time=   0.1s\n",
      "[CV] END alpha=0.32263157894736844, l1_ratio=0.7000000000000001; total time=   0.1s\n",
      "[CV] END alpha=0.32263157894736844, l1_ratio=0.7000000000000001; total time=   0.1s\n",
      "[CV] END ............alpha=0.32263157894736844, l1_ratio=0.8; total time=   0.1s\n",
      "[CV] END ............alpha=0.32263157894736844, l1_ratio=0.8; total time=   0.1s\n",
      "[CV] END ............alpha=0.32263157894736844, l1_ratio=0.8; total time=   0.1s\n",
      "[CV] END ............alpha=0.32263157894736844, l1_ratio=0.8; total time=   0.1s\n",
      "[CV] END ............alpha=0.32263157894736844, l1_ratio=0.8; total time=   0.1s\n",
      "[CV] END ............alpha=0.32263157894736844, l1_ratio=0.9; total time=   0.1s\n",
      "[CV] END ............alpha=0.32263157894736844, l1_ratio=0.9; total time=   0.1s\n",
      "[CV] END ............alpha=0.32263157894736844, l1_ratio=0.9; total time=   0.1s\n",
      "[CV] END ............alpha=0.32263157894736844, l1_ratio=0.9; total time=   0.1s\n",
      "[CV] END ............alpha=0.32263157894736844, l1_ratio=0.9; total time=   0.1s\n",
      "[CV] END ............alpha=0.32263157894736844, l1_ratio=1.0; total time=   1.6s\n",
      "[CV] END ............alpha=0.32263157894736844, l1_ratio=1.0; total time=   2.2s\n",
      "[CV] END ............alpha=0.32263157894736844, l1_ratio=1.0; total time=   2.0s\n",
      "[CV] END ............alpha=0.32263157894736844, l1_ratio=1.0; total time=   2.0s\n",
      "[CV] END ............alpha=0.32263157894736844, l1_ratio=1.0; total time=   1.6s\n",
      "[CV] END ............alpha=0.37473684210526315, l1_ratio=0.1; total time=   0.1s\n",
      "[CV] END ............alpha=0.37473684210526315, l1_ratio=0.1; total time=   0.1s\n",
      "[CV] END ............alpha=0.37473684210526315, l1_ratio=0.1; total time=   0.1s\n",
      "[CV] END ............alpha=0.37473684210526315, l1_ratio=0.1; total time=   0.1s\n",
      "[CV] END ............alpha=0.37473684210526315, l1_ratio=0.1; total time=   0.1s\n",
      "[CV] END ............alpha=0.37473684210526315, l1_ratio=0.2; total time=   0.1s\n",
      "[CV] END ............alpha=0.37473684210526315, l1_ratio=0.2; total time=   0.1s\n",
      "[CV] END ............alpha=0.37473684210526315, l1_ratio=0.2; total time=   0.2s\n",
      "[CV] END ............alpha=0.37473684210526315, l1_ratio=0.2; total time=   0.1s\n",
      "[CV] END ............alpha=0.37473684210526315, l1_ratio=0.2; total time=   0.1s\n",
      "[CV] END alpha=0.37473684210526315, l1_ratio=0.30000000000000004; total time=   0.1s\n",
      "[CV] END alpha=0.37473684210526315, l1_ratio=0.30000000000000004; total time=   0.1s\n",
      "[CV] END alpha=0.37473684210526315, l1_ratio=0.30000000000000004; total time=   0.1s\n",
      "[CV] END alpha=0.37473684210526315, l1_ratio=0.30000000000000004; total time=   0.1s\n",
      "[CV] END alpha=0.37473684210526315, l1_ratio=0.30000000000000004; total time=   0.1s\n",
      "[CV] END ............alpha=0.37473684210526315, l1_ratio=0.4; total time=   0.1s\n",
      "[CV] END ............alpha=0.37473684210526315, l1_ratio=0.4; total time=   0.1s\n",
      "[CV] END ............alpha=0.37473684210526315, l1_ratio=0.4; total time=   0.1s\n",
      "[CV] END ............alpha=0.37473684210526315, l1_ratio=0.4; total time=   0.1s\n",
      "[CV] END ............alpha=0.37473684210526315, l1_ratio=0.4; total time=   0.1s\n",
      "[CV] END ............alpha=0.37473684210526315, l1_ratio=0.5; total time=   0.1s\n",
      "[CV] END ............alpha=0.37473684210526315, l1_ratio=0.5; total time=   0.1s\n",
      "[CV] END ............alpha=0.37473684210526315, l1_ratio=0.5; total time=   0.1s\n",
      "[CV] END ............alpha=0.37473684210526315, l1_ratio=0.5; total time=   0.1s\n",
      "[CV] END ............alpha=0.37473684210526315, l1_ratio=0.5; total time=   0.1s\n",
      "[CV] END ............alpha=0.37473684210526315, l1_ratio=0.6; total time=   0.1s\n",
      "[CV] END ............alpha=0.37473684210526315, l1_ratio=0.6; total time=   0.1s\n",
      "[CV] END ............alpha=0.37473684210526315, l1_ratio=0.6; total time=   0.1s\n",
      "[CV] END ............alpha=0.37473684210526315, l1_ratio=0.6; total time=   0.1s\n",
      "[CV] END ............alpha=0.37473684210526315, l1_ratio=0.6; total time=   0.1s\n",
      "[CV] END alpha=0.37473684210526315, l1_ratio=0.7000000000000001; total time=   0.1s\n",
      "[CV] END alpha=0.37473684210526315, l1_ratio=0.7000000000000001; total time=   0.1s\n",
      "[CV] END alpha=0.37473684210526315, l1_ratio=0.7000000000000001; total time=   0.1s\n",
      "[CV] END alpha=0.37473684210526315, l1_ratio=0.7000000000000001; total time=   0.1s\n",
      "[CV] END alpha=0.37473684210526315, l1_ratio=0.7000000000000001; total time=   0.1s\n",
      "[CV] END ............alpha=0.37473684210526315, l1_ratio=0.8; total time=   0.1s\n",
      "[CV] END ............alpha=0.37473684210526315, l1_ratio=0.8; total time=   0.1s\n",
      "[CV] END ............alpha=0.37473684210526315, l1_ratio=0.8; total time=   0.1s\n",
      "[CV] END ............alpha=0.37473684210526315, l1_ratio=0.8; total time=   0.1s\n",
      "[CV] END ............alpha=0.37473684210526315, l1_ratio=0.8; total time=   0.1s\n",
      "[CV] END ............alpha=0.37473684210526315, l1_ratio=0.9; total time=   0.1s\n",
      "[CV] END ............alpha=0.37473684210526315, l1_ratio=0.9; total time=   0.1s\n",
      "[CV] END ............alpha=0.37473684210526315, l1_ratio=0.9; total time=   0.1s\n",
      "[CV] END ............alpha=0.37473684210526315, l1_ratio=0.9; total time=   0.1s\n",
      "[CV] END ............alpha=0.37473684210526315, l1_ratio=0.9; total time=   0.1s\n",
      "[CV] END ............alpha=0.37473684210526315, l1_ratio=1.0; total time=   1.6s\n",
      "[CV] END ............alpha=0.37473684210526315, l1_ratio=1.0; total time=   1.7s\n",
      "[CV] END ............alpha=0.37473684210526315, l1_ratio=1.0; total time=   1.6s\n",
      "[CV] END ............alpha=0.37473684210526315, l1_ratio=1.0; total time=   1.5s\n",
      "[CV] END ............alpha=0.37473684210526315, l1_ratio=1.0; total time=   1.7s\n",
      "[CV] END .............alpha=0.4268421052631579, l1_ratio=0.1; total time=   0.1s\n",
      "[CV] END .............alpha=0.4268421052631579, l1_ratio=0.1; total time=   0.1s\n",
      "[CV] END .............alpha=0.4268421052631579, l1_ratio=0.1; total time=   0.1s\n",
      "[CV] END .............alpha=0.4268421052631579, l1_ratio=0.1; total time=   0.1s\n",
      "[CV] END .............alpha=0.4268421052631579, l1_ratio=0.1; total time=   0.1s\n"
     ]
    },
    {
     "name": "stdout",
     "output_type": "stream",
     "text": [
      "[CV] END .............alpha=0.4268421052631579, l1_ratio=0.2; total time=   0.1s\n",
      "[CV] END .............alpha=0.4268421052631579, l1_ratio=0.2; total time=   0.1s\n",
      "[CV] END .............alpha=0.4268421052631579, l1_ratio=0.2; total time=   0.1s\n",
      "[CV] END .............alpha=0.4268421052631579, l1_ratio=0.2; total time=   0.1s\n",
      "[CV] END .............alpha=0.4268421052631579, l1_ratio=0.2; total time=   0.1s\n",
      "[CV] END alpha=0.4268421052631579, l1_ratio=0.30000000000000004; total time=   0.1s\n",
      "[CV] END alpha=0.4268421052631579, l1_ratio=0.30000000000000004; total time=   0.1s\n",
      "[CV] END alpha=0.4268421052631579, l1_ratio=0.30000000000000004; total time=   0.1s\n",
      "[CV] END alpha=0.4268421052631579, l1_ratio=0.30000000000000004; total time=   0.1s\n",
      "[CV] END alpha=0.4268421052631579, l1_ratio=0.30000000000000004; total time=   0.1s\n",
      "[CV] END .............alpha=0.4268421052631579, l1_ratio=0.4; total time=   0.1s\n",
      "[CV] END .............alpha=0.4268421052631579, l1_ratio=0.4; total time=   0.0s\n",
      "[CV] END .............alpha=0.4268421052631579, l1_ratio=0.4; total time=   0.1s\n",
      "[CV] END .............alpha=0.4268421052631579, l1_ratio=0.4; total time=   0.1s\n",
      "[CV] END .............alpha=0.4268421052631579, l1_ratio=0.4; total time=   0.1s\n",
      "[CV] END .............alpha=0.4268421052631579, l1_ratio=0.5; total time=   0.1s\n",
      "[CV] END .............alpha=0.4268421052631579, l1_ratio=0.5; total time=   0.1s\n",
      "[CV] END .............alpha=0.4268421052631579, l1_ratio=0.5; total time=   0.1s\n",
      "[CV] END .............alpha=0.4268421052631579, l1_ratio=0.5; total time=   0.1s\n",
      "[CV] END .............alpha=0.4268421052631579, l1_ratio=0.5; total time=   0.1s\n",
      "[CV] END .............alpha=0.4268421052631579, l1_ratio=0.6; total time=   0.1s\n",
      "[CV] END .............alpha=0.4268421052631579, l1_ratio=0.6; total time=   0.1s\n",
      "[CV] END .............alpha=0.4268421052631579, l1_ratio=0.6; total time=   0.1s\n",
      "[CV] END .............alpha=0.4268421052631579, l1_ratio=0.6; total time=   0.1s\n",
      "[CV] END .............alpha=0.4268421052631579, l1_ratio=0.6; total time=   0.1s\n",
      "[CV] END alpha=0.4268421052631579, l1_ratio=0.7000000000000001; total time=   0.1s\n",
      "[CV] END alpha=0.4268421052631579, l1_ratio=0.7000000000000001; total time=   0.1s\n",
      "[CV] END alpha=0.4268421052631579, l1_ratio=0.7000000000000001; total time=   0.1s\n",
      "[CV] END alpha=0.4268421052631579, l1_ratio=0.7000000000000001; total time=   0.1s\n",
      "[CV] END alpha=0.4268421052631579, l1_ratio=0.7000000000000001; total time=   0.1s\n",
      "[CV] END .............alpha=0.4268421052631579, l1_ratio=0.8; total time=   0.1s\n",
      "[CV] END .............alpha=0.4268421052631579, l1_ratio=0.8; total time=   0.1s\n",
      "[CV] END .............alpha=0.4268421052631579, l1_ratio=0.8; total time=   0.1s\n",
      "[CV] END .............alpha=0.4268421052631579, l1_ratio=0.8; total time=   0.1s\n",
      "[CV] END .............alpha=0.4268421052631579, l1_ratio=0.8; total time=   0.1s\n",
      "[CV] END .............alpha=0.4268421052631579, l1_ratio=0.9; total time=   0.1s\n",
      "[CV] END .............alpha=0.4268421052631579, l1_ratio=0.9; total time=   0.1s\n",
      "[CV] END .............alpha=0.4268421052631579, l1_ratio=0.9; total time=   0.1s\n",
      "[CV] END .............alpha=0.4268421052631579, l1_ratio=0.9; total time=   0.1s\n",
      "[CV] END .............alpha=0.4268421052631579, l1_ratio=0.9; total time=   0.1s\n",
      "[CV] END .............alpha=0.4268421052631579, l1_ratio=1.0; total time=   1.4s\n",
      "[CV] END .............alpha=0.4268421052631579, l1_ratio=1.0; total time=   1.5s\n",
      "[CV] END .............alpha=0.4268421052631579, l1_ratio=1.0; total time=   1.5s\n",
      "[CV] END .............alpha=0.4268421052631579, l1_ratio=1.0; total time=   1.5s\n",
      "[CV] END .............alpha=0.4268421052631579, l1_ratio=1.0; total time=   1.5s\n",
      "[CV] END .............alpha=0.4789473684210527, l1_ratio=0.1; total time=   0.1s\n",
      "[CV] END .............alpha=0.4789473684210527, l1_ratio=0.1; total time=   0.1s\n",
      "[CV] END .............alpha=0.4789473684210527, l1_ratio=0.1; total time=   0.1s\n",
      "[CV] END .............alpha=0.4789473684210527, l1_ratio=0.1; total time=   0.1s\n",
      "[CV] END .............alpha=0.4789473684210527, l1_ratio=0.1; total time=   0.1s\n",
      "[CV] END .............alpha=0.4789473684210527, l1_ratio=0.2; total time=   0.1s\n",
      "[CV] END .............alpha=0.4789473684210527, l1_ratio=0.2; total time=   0.1s\n",
      "[CV] END .............alpha=0.4789473684210527, l1_ratio=0.2; total time=   0.1s\n",
      "[CV] END .............alpha=0.4789473684210527, l1_ratio=0.2; total time=   0.1s\n",
      "[CV] END .............alpha=0.4789473684210527, l1_ratio=0.2; total time=   0.1s\n",
      "[CV] END alpha=0.4789473684210527, l1_ratio=0.30000000000000004; total time=   0.0s\n",
      "[CV] END alpha=0.4789473684210527, l1_ratio=0.30000000000000004; total time=   0.1s\n",
      "[CV] END alpha=0.4789473684210527, l1_ratio=0.30000000000000004; total time=   0.0s\n",
      "[CV] END alpha=0.4789473684210527, l1_ratio=0.30000000000000004; total time=   0.1s\n",
      "[CV] END alpha=0.4789473684210527, l1_ratio=0.30000000000000004; total time=   0.0s\n",
      "[CV] END .............alpha=0.4789473684210527, l1_ratio=0.4; total time=   0.1s\n",
      "[CV] END .............alpha=0.4789473684210527, l1_ratio=0.4; total time=   0.1s\n",
      "[CV] END .............alpha=0.4789473684210527, l1_ratio=0.4; total time=   0.1s\n",
      "[CV] END .............alpha=0.4789473684210527, l1_ratio=0.4; total time=   0.1s\n",
      "[CV] END .............alpha=0.4789473684210527, l1_ratio=0.4; total time=   0.1s\n",
      "[CV] END .............alpha=0.4789473684210527, l1_ratio=0.5; total time=   0.1s\n",
      "[CV] END .............alpha=0.4789473684210527, l1_ratio=0.5; total time=   0.1s\n",
      "[CV] END .............alpha=0.4789473684210527, l1_ratio=0.5; total time=   0.0s\n",
      "[CV] END .............alpha=0.4789473684210527, l1_ratio=0.5; total time=   0.1s\n",
      "[CV] END .............alpha=0.4789473684210527, l1_ratio=0.5; total time=   0.1s\n",
      "[CV] END .............alpha=0.4789473684210527, l1_ratio=0.6; total time=   0.1s\n",
      "[CV] END .............alpha=0.4789473684210527, l1_ratio=0.6; total time=   0.1s\n",
      "[CV] END .............alpha=0.4789473684210527, l1_ratio=0.6; total time=   0.1s\n",
      "[CV] END .............alpha=0.4789473684210527, l1_ratio=0.6; total time=   0.1s\n",
      "[CV] END .............alpha=0.4789473684210527, l1_ratio=0.6; total time=   0.1s\n",
      "[CV] END alpha=0.4789473684210527, l1_ratio=0.7000000000000001; total time=   0.1s\n",
      "[CV] END alpha=0.4789473684210527, l1_ratio=0.7000000000000001; total time=   0.1s\n",
      "[CV] END alpha=0.4789473684210527, l1_ratio=0.7000000000000001; total time=   0.1s\n",
      "[CV] END alpha=0.4789473684210527, l1_ratio=0.7000000000000001; total time=   0.1s\n",
      "[CV] END alpha=0.4789473684210527, l1_ratio=0.7000000000000001; total time=   0.1s\n",
      "[CV] END .............alpha=0.4789473684210527, l1_ratio=0.8; total time=   0.1s\n",
      "[CV] END .............alpha=0.4789473684210527, l1_ratio=0.8; total time=   0.1s\n",
      "[CV] END .............alpha=0.4789473684210527, l1_ratio=0.8; total time=   0.1s\n",
      "[CV] END .............alpha=0.4789473684210527, l1_ratio=0.8; total time=   0.1s\n",
      "[CV] END .............alpha=0.4789473684210527, l1_ratio=0.8; total time=   0.1s\n",
      "[CV] END .............alpha=0.4789473684210527, l1_ratio=0.9; total time=   0.1s\n",
      "[CV] END .............alpha=0.4789473684210527, l1_ratio=0.9; total time=   0.1s\n",
      "[CV] END .............alpha=0.4789473684210527, l1_ratio=0.9; total time=   0.1s\n",
      "[CV] END .............alpha=0.4789473684210527, l1_ratio=0.9; total time=   0.1s\n",
      "[CV] END .............alpha=0.4789473684210527, l1_ratio=0.9; total time=   0.1s\n",
      "[CV] END .............alpha=0.4789473684210527, l1_ratio=1.0; total time=   1.4s\n",
      "[CV] END .............alpha=0.4789473684210527, l1_ratio=1.0; total time=   1.5s\n",
      "[CV] END .............alpha=0.4789473684210527, l1_ratio=1.0; total time=   1.5s\n",
      "[CV] END .............alpha=0.4789473684210527, l1_ratio=1.0; total time=   1.5s\n",
      "[CV] END .............alpha=0.4789473684210527, l1_ratio=1.0; total time=   1.5s\n",
      "[CV] END .............alpha=0.5310526315789474, l1_ratio=0.1; total time=   0.0s\n",
      "[CV] END .............alpha=0.5310526315789474, l1_ratio=0.1; total time=   0.1s\n",
      "[CV] END .............alpha=0.5310526315789474, l1_ratio=0.1; total time=   0.1s\n",
      "[CV] END .............alpha=0.5310526315789474, l1_ratio=0.1; total time=   0.1s\n",
      "[CV] END .............alpha=0.5310526315789474, l1_ratio=0.1; total time=   0.0s\n",
      "[CV] END .............alpha=0.5310526315789474, l1_ratio=0.2; total time=   0.1s\n",
      "[CV] END .............alpha=0.5310526315789474, l1_ratio=0.2; total time=   0.1s\n"
     ]
    },
    {
     "name": "stdout",
     "output_type": "stream",
     "text": [
      "[CV] END .............alpha=0.5310526315789474, l1_ratio=0.2; total time=   0.1s\n",
      "[CV] END .............alpha=0.5310526315789474, l1_ratio=0.2; total time=   0.1s\n",
      "[CV] END .............alpha=0.5310526315789474, l1_ratio=0.2; total time=   0.1s\n",
      "[CV] END alpha=0.5310526315789474, l1_ratio=0.30000000000000004; total time=   0.1s\n",
      "[CV] END alpha=0.5310526315789474, l1_ratio=0.30000000000000004; total time=   0.1s\n",
      "[CV] END alpha=0.5310526315789474, l1_ratio=0.30000000000000004; total time=   0.1s\n",
      "[CV] END alpha=0.5310526315789474, l1_ratio=0.30000000000000004; total time=   0.1s\n",
      "[CV] END alpha=0.5310526315789474, l1_ratio=0.30000000000000004; total time=   0.1s\n",
      "[CV] END .............alpha=0.5310526315789474, l1_ratio=0.4; total time=   0.0s\n",
      "[CV] END .............alpha=0.5310526315789474, l1_ratio=0.4; total time=   0.0s\n",
      "[CV] END .............alpha=0.5310526315789474, l1_ratio=0.4; total time=   0.0s\n",
      "[CV] END .............alpha=0.5310526315789474, l1_ratio=0.4; total time=   0.0s\n",
      "[CV] END .............alpha=0.5310526315789474, l1_ratio=0.4; total time=   0.1s\n",
      "[CV] END .............alpha=0.5310526315789474, l1_ratio=0.5; total time=   0.1s\n",
      "[CV] END .............alpha=0.5310526315789474, l1_ratio=0.5; total time=   0.1s\n",
      "[CV] END .............alpha=0.5310526315789474, l1_ratio=0.5; total time=   0.1s\n",
      "[CV] END .............alpha=0.5310526315789474, l1_ratio=0.5; total time=   0.1s\n",
      "[CV] END .............alpha=0.5310526315789474, l1_ratio=0.5; total time=   0.1s\n",
      "[CV] END .............alpha=0.5310526315789474, l1_ratio=0.6; total time=   0.1s\n",
      "[CV] END .............alpha=0.5310526315789474, l1_ratio=0.6; total time=   0.1s\n",
      "[CV] END .............alpha=0.5310526315789474, l1_ratio=0.6; total time=   0.1s\n",
      "[CV] END .............alpha=0.5310526315789474, l1_ratio=0.6; total time=   0.1s\n",
      "[CV] END .............alpha=0.5310526315789474, l1_ratio=0.6; total time=   0.1s\n",
      "[CV] END alpha=0.5310526315789474, l1_ratio=0.7000000000000001; total time=   0.1s\n",
      "[CV] END alpha=0.5310526315789474, l1_ratio=0.7000000000000001; total time=   0.1s\n",
      "[CV] END alpha=0.5310526315789474, l1_ratio=0.7000000000000001; total time=   0.1s\n",
      "[CV] END alpha=0.5310526315789474, l1_ratio=0.7000000000000001; total time=   0.1s\n",
      "[CV] END alpha=0.5310526315789474, l1_ratio=0.7000000000000001; total time=   0.1s\n",
      "[CV] END .............alpha=0.5310526315789474, l1_ratio=0.8; total time=   0.1s\n",
      "[CV] END .............alpha=0.5310526315789474, l1_ratio=0.8; total time=   0.1s\n",
      "[CV] END .............alpha=0.5310526315789474, l1_ratio=0.8; total time=   0.1s\n",
      "[CV] END .............alpha=0.5310526315789474, l1_ratio=0.8; total time=   0.1s\n",
      "[CV] END .............alpha=0.5310526315789474, l1_ratio=0.8; total time=   0.1s\n",
      "[CV] END .............alpha=0.5310526315789474, l1_ratio=0.9; total time=   0.1s\n",
      "[CV] END .............alpha=0.5310526315789474, l1_ratio=0.9; total time=   0.1s\n",
      "[CV] END .............alpha=0.5310526315789474, l1_ratio=0.9; total time=   0.1s\n",
      "[CV] END .............alpha=0.5310526315789474, l1_ratio=0.9; total time=   0.1s\n",
      "[CV] END .............alpha=0.5310526315789474, l1_ratio=0.9; total time=   0.1s\n",
      "[CV] END .............alpha=0.5310526315789474, l1_ratio=1.0; total time=   1.5s\n",
      "[CV] END .............alpha=0.5310526315789474, l1_ratio=1.0; total time=   1.8s\n",
      "[CV] END .............alpha=0.5310526315789474, l1_ratio=1.0; total time=   2.3s\n",
      "[CV] END .............alpha=0.5310526315789474, l1_ratio=1.0; total time=   2.0s\n",
      "[CV] END .............alpha=0.5310526315789474, l1_ratio=1.0; total time=   1.5s\n",
      "[CV] END .............alpha=0.5831578947368421, l1_ratio=0.1; total time=   0.0s\n",
      "[CV] END .............alpha=0.5831578947368421, l1_ratio=0.1; total time=   0.1s\n",
      "[CV] END .............alpha=0.5831578947368421, l1_ratio=0.1; total time=   0.0s\n",
      "[CV] END .............alpha=0.5831578947368421, l1_ratio=0.1; total time=   0.1s\n",
      "[CV] END .............alpha=0.5831578947368421, l1_ratio=0.1; total time=   0.1s\n",
      "[CV] END .............alpha=0.5831578947368421, l1_ratio=0.2; total time=   0.0s\n",
      "[CV] END .............alpha=0.5831578947368421, l1_ratio=0.2; total time=   0.1s\n",
      "[CV] END .............alpha=0.5831578947368421, l1_ratio=0.2; total time=   0.3s\n",
      "[CV] END .............alpha=0.5831578947368421, l1_ratio=0.2; total time=   0.2s\n",
      "[CV] END .............alpha=0.5831578947368421, l1_ratio=0.2; total time=   0.0s\n",
      "[CV] END alpha=0.5831578947368421, l1_ratio=0.30000000000000004; total time=   0.1s\n",
      "[CV] END alpha=0.5831578947368421, l1_ratio=0.30000000000000004; total time=   0.1s\n",
      "[CV] END alpha=0.5831578947368421, l1_ratio=0.30000000000000004; total time=   0.1s\n",
      "[CV] END alpha=0.5831578947368421, l1_ratio=0.30000000000000004; total time=   0.0s\n",
      "[CV] END alpha=0.5831578947368421, l1_ratio=0.30000000000000004; total time=   0.1s\n",
      "[CV] END .............alpha=0.5831578947368421, l1_ratio=0.4; total time=   0.0s\n",
      "[CV] END .............alpha=0.5831578947368421, l1_ratio=0.4; total time=   0.1s\n",
      "[CV] END .............alpha=0.5831578947368421, l1_ratio=0.4; total time=   0.0s\n",
      "[CV] END .............alpha=0.5831578947368421, l1_ratio=0.4; total time=   0.1s\n",
      "[CV] END .............alpha=0.5831578947368421, l1_ratio=0.4; total time=   0.0s\n",
      "[CV] END .............alpha=0.5831578947368421, l1_ratio=0.5; total time=   0.1s\n",
      "[CV] END .............alpha=0.5831578947368421, l1_ratio=0.5; total time=   0.1s\n",
      "[CV] END .............alpha=0.5831578947368421, l1_ratio=0.5; total time=   0.1s\n",
      "[CV] END .............alpha=0.5831578947368421, l1_ratio=0.5; total time=   0.0s\n",
      "[CV] END .............alpha=0.5831578947368421, l1_ratio=0.5; total time=   0.1s\n",
      "[CV] END .............alpha=0.5831578947368421, l1_ratio=0.6; total time=   0.1s\n",
      "[CV] END .............alpha=0.5831578947368421, l1_ratio=0.6; total time=   0.1s\n",
      "[CV] END .............alpha=0.5831578947368421, l1_ratio=0.6; total time=   0.0s\n",
      "[CV] END .............alpha=0.5831578947368421, l1_ratio=0.6; total time=   0.1s\n",
      "[CV] END .............alpha=0.5831578947368421, l1_ratio=0.6; total time=   0.1s\n",
      "[CV] END alpha=0.5831578947368421, l1_ratio=0.7000000000000001; total time=   0.1s\n",
      "[CV] END alpha=0.5831578947368421, l1_ratio=0.7000000000000001; total time=   0.1s\n",
      "[CV] END alpha=0.5831578947368421, l1_ratio=0.7000000000000001; total time=   0.1s\n",
      "[CV] END alpha=0.5831578947368421, l1_ratio=0.7000000000000001; total time=   0.1s\n",
      "[CV] END alpha=0.5831578947368421, l1_ratio=0.7000000000000001; total time=   0.1s\n",
      "[CV] END .............alpha=0.5831578947368421, l1_ratio=0.8; total time=   0.4s\n",
      "[CV] END .............alpha=0.5831578947368421, l1_ratio=0.8; total time=   0.4s\n",
      "[CV] END .............alpha=0.5831578947368421, l1_ratio=0.8; total time=   0.4s\n",
      "[CV] END .............alpha=0.5831578947368421, l1_ratio=0.8; total time=   0.4s\n",
      "[CV] END .............alpha=0.5831578947368421, l1_ratio=0.8; total time=   0.4s\n",
      "[CV] END .............alpha=0.5831578947368421, l1_ratio=0.9; total time=   0.4s\n",
      "[CV] END .............alpha=0.5831578947368421, l1_ratio=0.9; total time=   0.4s\n",
      "[CV] END .............alpha=0.5831578947368421, l1_ratio=0.9; total time=   0.3s\n",
      "[CV] END .............alpha=0.5831578947368421, l1_ratio=0.9; total time=   0.1s\n",
      "[CV] END .............alpha=0.5831578947368421, l1_ratio=0.9; total time=   0.1s\n",
      "[CV] END .............alpha=0.5831578947368421, l1_ratio=1.0; total time=   1.5s\n",
      "[CV] END .............alpha=0.5831578947368421, l1_ratio=1.0; total time=   1.6s\n",
      "[CV] END .............alpha=0.5831578947368421, l1_ratio=1.0; total time=   1.5s\n",
      "[CV] END .............alpha=0.5831578947368421, l1_ratio=1.0; total time=   1.6s\n",
      "[CV] END .............alpha=0.5831578947368421, l1_ratio=1.0; total time=   1.5s\n",
      "[CV] END .............alpha=0.6352631578947369, l1_ratio=0.1; total time=   0.0s\n",
      "[CV] END .............alpha=0.6352631578947369, l1_ratio=0.1; total time=   0.0s\n",
      "[CV] END .............alpha=0.6352631578947369, l1_ratio=0.1; total time=   0.0s\n",
      "[CV] END .............alpha=0.6352631578947369, l1_ratio=0.1; total time=   0.0s\n",
      "[CV] END .............alpha=0.6352631578947369, l1_ratio=0.1; total time=   0.0s\n",
      "[CV] END .............alpha=0.6352631578947369, l1_ratio=0.2; total time=   0.0s\n",
      "[CV] END .............alpha=0.6352631578947369, l1_ratio=0.2; total time=   0.1s\n",
      "[CV] END .............alpha=0.6352631578947369, l1_ratio=0.2; total time=   0.1s\n",
      "[CV] END .............alpha=0.6352631578947369, l1_ratio=0.2; total time=   0.0s\n"
     ]
    },
    {
     "name": "stdout",
     "output_type": "stream",
     "text": [
      "[CV] END .............alpha=0.6352631578947369, l1_ratio=0.2; total time=   0.0s\n",
      "[CV] END alpha=0.6352631578947369, l1_ratio=0.30000000000000004; total time=   0.0s\n",
      "[CV] END alpha=0.6352631578947369, l1_ratio=0.30000000000000004; total time=   0.0s\n",
      "[CV] END alpha=0.6352631578947369, l1_ratio=0.30000000000000004; total time=   0.0s\n",
      "[CV] END alpha=0.6352631578947369, l1_ratio=0.30000000000000004; total time=   0.1s\n",
      "[CV] END alpha=0.6352631578947369, l1_ratio=0.30000000000000004; total time=   0.0s\n",
      "[CV] END .............alpha=0.6352631578947369, l1_ratio=0.4; total time=   0.0s\n",
      "[CV] END .............alpha=0.6352631578947369, l1_ratio=0.4; total time=   0.0s\n",
      "[CV] END .............alpha=0.6352631578947369, l1_ratio=0.4; total time=   0.1s\n",
      "[CV] END .............alpha=0.6352631578947369, l1_ratio=0.4; total time=   0.0s\n",
      "[CV] END .............alpha=0.6352631578947369, l1_ratio=0.4; total time=   0.0s\n",
      "[CV] END .............alpha=0.6352631578947369, l1_ratio=0.5; total time=   0.1s\n",
      "[CV] END .............alpha=0.6352631578947369, l1_ratio=0.5; total time=   0.1s\n",
      "[CV] END .............alpha=0.6352631578947369, l1_ratio=0.5; total time=   0.0s\n",
      "[CV] END .............alpha=0.6352631578947369, l1_ratio=0.5; total time=   0.1s\n",
      "[CV] END .............alpha=0.6352631578947369, l1_ratio=0.5; total time=   0.1s\n",
      "[CV] END .............alpha=0.6352631578947369, l1_ratio=0.6; total time=   0.1s\n",
      "[CV] END .............alpha=0.6352631578947369, l1_ratio=0.6; total time=   0.1s\n",
      "[CV] END .............alpha=0.6352631578947369, l1_ratio=0.6; total time=   0.1s\n",
      "[CV] END .............alpha=0.6352631578947369, l1_ratio=0.6; total time=   0.0s\n",
      "[CV] END .............alpha=0.6352631578947369, l1_ratio=0.6; total time=   0.1s\n",
      "[CV] END alpha=0.6352631578947369, l1_ratio=0.7000000000000001; total time=   0.0s\n",
      "[CV] END alpha=0.6352631578947369, l1_ratio=0.7000000000000001; total time=   0.1s\n",
      "[CV] END alpha=0.6352631578947369, l1_ratio=0.7000000000000001; total time=   0.0s\n",
      "[CV] END alpha=0.6352631578947369, l1_ratio=0.7000000000000001; total time=   0.1s\n",
      "[CV] END alpha=0.6352631578947369, l1_ratio=0.7000000000000001; total time=   0.1s\n",
      "[CV] END .............alpha=0.6352631578947369, l1_ratio=0.8; total time=   0.1s\n",
      "[CV] END .............alpha=0.6352631578947369, l1_ratio=0.8; total time=   0.1s\n",
      "[CV] END .............alpha=0.6352631578947369, l1_ratio=0.8; total time=   0.1s\n",
      "[CV] END .............alpha=0.6352631578947369, l1_ratio=0.8; total time=   0.1s\n",
      "[CV] END .............alpha=0.6352631578947369, l1_ratio=0.8; total time=   0.1s\n",
      "[CV] END .............alpha=0.6352631578947369, l1_ratio=0.9; total time=   0.1s\n",
      "[CV] END .............alpha=0.6352631578947369, l1_ratio=0.9; total time=   0.1s\n",
      "[CV] END .............alpha=0.6352631578947369, l1_ratio=0.9; total time=   0.1s\n",
      "[CV] END .............alpha=0.6352631578947369, l1_ratio=0.9; total time=   0.1s\n",
      "[CV] END .............alpha=0.6352631578947369, l1_ratio=0.9; total time=   0.1s\n",
      "[CV] END .............alpha=0.6352631578947369, l1_ratio=1.0; total time=   1.5s\n",
      "[CV] END .............alpha=0.6352631578947369, l1_ratio=1.0; total time=   1.8s\n",
      "[CV] END .............alpha=0.6352631578947369, l1_ratio=1.0; total time=   1.5s\n",
      "[CV] END .............alpha=0.6352631578947369, l1_ratio=1.0; total time=   1.5s\n",
      "[CV] END .............alpha=0.6352631578947369, l1_ratio=1.0; total time=   1.5s\n",
      "[CV] END .............alpha=0.6873684210526316, l1_ratio=0.1; total time=   0.0s\n",
      "[CV] END .............alpha=0.6873684210526316, l1_ratio=0.1; total time=   0.0s\n",
      "[CV] END .............alpha=0.6873684210526316, l1_ratio=0.1; total time=   0.0s\n",
      "[CV] END .............alpha=0.6873684210526316, l1_ratio=0.1; total time=   0.0s\n",
      "[CV] END .............alpha=0.6873684210526316, l1_ratio=0.1; total time=   0.0s\n",
      "[CV] END .............alpha=0.6873684210526316, l1_ratio=0.2; total time=   0.0s\n",
      "[CV] END .............alpha=0.6873684210526316, l1_ratio=0.2; total time=   0.0s\n",
      "[CV] END .............alpha=0.6873684210526316, l1_ratio=0.2; total time=   0.1s\n",
      "[CV] END .............alpha=0.6873684210526316, l1_ratio=0.2; total time=   0.0s\n",
      "[CV] END .............alpha=0.6873684210526316, l1_ratio=0.2; total time=   0.0s\n",
      "[CV] END alpha=0.6873684210526316, l1_ratio=0.30000000000000004; total time=   0.1s\n",
      "[CV] END alpha=0.6873684210526316, l1_ratio=0.30000000000000004; total time=   0.0s\n",
      "[CV] END alpha=0.6873684210526316, l1_ratio=0.30000000000000004; total time=   0.0s\n",
      "[CV] END alpha=0.6873684210526316, l1_ratio=0.30000000000000004; total time=   0.0s\n",
      "[CV] END alpha=0.6873684210526316, l1_ratio=0.30000000000000004; total time=   0.0s\n",
      "[CV] END .............alpha=0.6873684210526316, l1_ratio=0.4; total time=   0.0s\n",
      "[CV] END .............alpha=0.6873684210526316, l1_ratio=0.4; total time=   0.0s\n",
      "[CV] END .............alpha=0.6873684210526316, l1_ratio=0.4; total time=   0.0s\n",
      "[CV] END .............alpha=0.6873684210526316, l1_ratio=0.4; total time=   0.1s\n",
      "[CV] END .............alpha=0.6873684210526316, l1_ratio=0.4; total time=   0.1s\n",
      "[CV] END .............alpha=0.6873684210526316, l1_ratio=0.5; total time=   0.0s\n",
      "[CV] END .............alpha=0.6873684210526316, l1_ratio=0.5; total time=   0.1s\n",
      "[CV] END .............alpha=0.6873684210526316, l1_ratio=0.5; total time=   0.0s\n",
      "[CV] END .............alpha=0.6873684210526316, l1_ratio=0.5; total time=   0.1s\n",
      "[CV] END .............alpha=0.6873684210526316, l1_ratio=0.5; total time=   0.0s\n",
      "[CV] END .............alpha=0.6873684210526316, l1_ratio=0.6; total time=   0.1s\n",
      "[CV] END .............alpha=0.6873684210526316, l1_ratio=0.6; total time=   0.0s\n",
      "[CV] END .............alpha=0.6873684210526316, l1_ratio=0.6; total time=   0.0s\n",
      "[CV] END .............alpha=0.6873684210526316, l1_ratio=0.6; total time=   0.1s\n",
      "[CV] END .............alpha=0.6873684210526316, l1_ratio=0.6; total time=   0.1s\n",
      "[CV] END alpha=0.6873684210526316, l1_ratio=0.7000000000000001; total time=   0.0s\n",
      "[CV] END alpha=0.6873684210526316, l1_ratio=0.7000000000000001; total time=   0.1s\n",
      "[CV] END alpha=0.6873684210526316, l1_ratio=0.7000000000000001; total time=   0.1s\n",
      "[CV] END alpha=0.6873684210526316, l1_ratio=0.7000000000000001; total time=   0.1s\n",
      "[CV] END alpha=0.6873684210526316, l1_ratio=0.7000000000000001; total time=   0.0s\n",
      "[CV] END .............alpha=0.6873684210526316, l1_ratio=0.8; total time=   0.1s\n",
      "[CV] END .............alpha=0.6873684210526316, l1_ratio=0.8; total time=   0.1s\n",
      "[CV] END .............alpha=0.6873684210526316, l1_ratio=0.8; total time=   0.1s\n",
      "[CV] END .............alpha=0.6873684210526316, l1_ratio=0.8; total time=   0.1s\n",
      "[CV] END .............alpha=0.6873684210526316, l1_ratio=0.8; total time=   0.1s\n",
      "[CV] END .............alpha=0.6873684210526316, l1_ratio=0.9; total time=   0.1s\n",
      "[CV] END .............alpha=0.6873684210526316, l1_ratio=0.9; total time=   0.1s\n",
      "[CV] END .............alpha=0.6873684210526316, l1_ratio=0.9; total time=   0.1s\n",
      "[CV] END .............alpha=0.6873684210526316, l1_ratio=0.9; total time=   0.1s\n",
      "[CV] END .............alpha=0.6873684210526316, l1_ratio=0.9; total time=   0.1s\n",
      "[CV] END .............alpha=0.6873684210526316, l1_ratio=1.0; total time=   1.6s\n",
      "[CV] END .............alpha=0.6873684210526316, l1_ratio=1.0; total time=   1.5s\n",
      "[CV] END .............alpha=0.6873684210526316, l1_ratio=1.0; total time=   1.5s\n",
      "[CV] END .............alpha=0.6873684210526316, l1_ratio=1.0; total time=   1.5s\n",
      "[CV] END .............alpha=0.6873684210526316, l1_ratio=1.0; total time=   1.5s\n",
      "[CV] END .............alpha=0.7394736842105263, l1_ratio=0.1; total time=   0.0s\n",
      "[CV] END .............alpha=0.7394736842105263, l1_ratio=0.1; total time=   0.0s\n",
      "[CV] END .............alpha=0.7394736842105263, l1_ratio=0.1; total time=   0.0s\n",
      "[CV] END .............alpha=0.7394736842105263, l1_ratio=0.1; total time=   0.0s\n",
      "[CV] END .............alpha=0.7394736842105263, l1_ratio=0.1; total time=   0.0s\n",
      "[CV] END .............alpha=0.7394736842105263, l1_ratio=0.2; total time=   0.0s\n",
      "[CV] END .............alpha=0.7394736842105263, l1_ratio=0.2; total time=   0.0s\n",
      "[CV] END .............alpha=0.7394736842105263, l1_ratio=0.2; total time=   0.1s\n",
      "[CV] END .............alpha=0.7394736842105263, l1_ratio=0.2; total time=   0.0s\n",
      "[CV] END .............alpha=0.7394736842105263, l1_ratio=0.2; total time=   0.0s\n",
      "[CV] END alpha=0.7394736842105263, l1_ratio=0.30000000000000004; total time=   0.0s\n"
     ]
    },
    {
     "name": "stdout",
     "output_type": "stream",
     "text": [
      "[CV] END alpha=0.7394736842105263, l1_ratio=0.30000000000000004; total time=   0.1s\n",
      "[CV] END alpha=0.7394736842105263, l1_ratio=0.30000000000000004; total time=   0.0s\n",
      "[CV] END alpha=0.7394736842105263, l1_ratio=0.30000000000000004; total time=   0.0s\n",
      "[CV] END alpha=0.7394736842105263, l1_ratio=0.30000000000000004; total time=   0.0s\n",
      "[CV] END .............alpha=0.7394736842105263, l1_ratio=0.4; total time=   0.0s\n",
      "[CV] END .............alpha=0.7394736842105263, l1_ratio=0.4; total time=   0.0s\n",
      "[CV] END .............alpha=0.7394736842105263, l1_ratio=0.4; total time=   0.0s\n",
      "[CV] END .............alpha=0.7394736842105263, l1_ratio=0.4; total time=   0.0s\n",
      "[CV] END .............alpha=0.7394736842105263, l1_ratio=0.4; total time=   0.0s\n",
      "[CV] END .............alpha=0.7394736842105263, l1_ratio=0.5; total time=   0.1s\n",
      "[CV] END .............alpha=0.7394736842105263, l1_ratio=0.5; total time=   0.0s\n",
      "[CV] END .............alpha=0.7394736842105263, l1_ratio=0.5; total time=   0.1s\n",
      "[CV] END .............alpha=0.7394736842105263, l1_ratio=0.5; total time=   0.0s\n",
      "[CV] END .............alpha=0.7394736842105263, l1_ratio=0.5; total time=   0.0s\n",
      "[CV] END .............alpha=0.7394736842105263, l1_ratio=0.6; total time=   0.0s\n",
      "[CV] END .............alpha=0.7394736842105263, l1_ratio=0.6; total time=   0.0s\n",
      "[CV] END .............alpha=0.7394736842105263, l1_ratio=0.6; total time=   0.1s\n",
      "[CV] END .............alpha=0.7394736842105263, l1_ratio=0.6; total time=   0.0s\n",
      "[CV] END .............alpha=0.7394736842105263, l1_ratio=0.6; total time=   0.1s\n",
      "[CV] END alpha=0.7394736842105263, l1_ratio=0.7000000000000001; total time=   0.0s\n",
      "[CV] END alpha=0.7394736842105263, l1_ratio=0.7000000000000001; total time=   0.1s\n",
      "[CV] END alpha=0.7394736842105263, l1_ratio=0.7000000000000001; total time=   0.0s\n",
      "[CV] END alpha=0.7394736842105263, l1_ratio=0.7000000000000001; total time=   0.1s\n",
      "[CV] END alpha=0.7394736842105263, l1_ratio=0.7000000000000001; total time=   0.1s\n",
      "[CV] END .............alpha=0.7394736842105263, l1_ratio=0.8; total time=   0.1s\n",
      "[CV] END .............alpha=0.7394736842105263, l1_ratio=0.8; total time=   0.1s\n",
      "[CV] END .............alpha=0.7394736842105263, l1_ratio=0.8; total time=   0.1s\n",
      "[CV] END .............alpha=0.7394736842105263, l1_ratio=0.8; total time=   0.0s\n",
      "[CV] END .............alpha=0.7394736842105263, l1_ratio=0.8; total time=   0.1s\n",
      "[CV] END .............alpha=0.7394736842105263, l1_ratio=0.9; total time=   0.1s\n",
      "[CV] END .............alpha=0.7394736842105263, l1_ratio=0.9; total time=   0.1s\n",
      "[CV] END .............alpha=0.7394736842105263, l1_ratio=0.9; total time=   0.1s\n",
      "[CV] END .............alpha=0.7394736842105263, l1_ratio=0.9; total time=   0.1s\n",
      "[CV] END .............alpha=0.7394736842105263, l1_ratio=0.9; total time=   0.1s\n",
      "[CV] END .............alpha=0.7394736842105263, l1_ratio=1.0; total time=   1.7s\n",
      "[CV] END .............alpha=0.7394736842105263, l1_ratio=1.0; total time=   1.6s\n",
      "[CV] END .............alpha=0.7394736842105263, l1_ratio=1.0; total time=   2.1s\n",
      "[CV] END .............alpha=0.7394736842105263, l1_ratio=1.0; total time=   1.9s\n",
      "[CV] END .............alpha=0.7394736842105263, l1_ratio=1.0; total time=   1.7s\n",
      "[CV] END ..............alpha=0.791578947368421, l1_ratio=0.1; total time=   0.0s\n",
      "[CV] END ..............alpha=0.791578947368421, l1_ratio=0.1; total time=   0.0s\n",
      "[CV] END ..............alpha=0.791578947368421, l1_ratio=0.1; total time=   0.0s\n",
      "[CV] END ..............alpha=0.791578947368421, l1_ratio=0.1; total time=   0.0s\n",
      "[CV] END ..............alpha=0.791578947368421, l1_ratio=0.1; total time=   0.0s\n",
      "[CV] END ..............alpha=0.791578947368421, l1_ratio=0.2; total time=   0.1s\n",
      "[CV] END ..............alpha=0.791578947368421, l1_ratio=0.2; total time=   0.1s\n",
      "[CV] END ..............alpha=0.791578947368421, l1_ratio=0.2; total time=   0.0s\n",
      "[CV] END ..............alpha=0.791578947368421, l1_ratio=0.2; total time=   0.0s\n",
      "[CV] END ..............alpha=0.791578947368421, l1_ratio=0.2; total time=   0.0s\n",
      "[CV] END alpha=0.791578947368421, l1_ratio=0.30000000000000004; total time=   0.2s\n",
      "[CV] END alpha=0.791578947368421, l1_ratio=0.30000000000000004; total time=   0.0s\n",
      "[CV] END alpha=0.791578947368421, l1_ratio=0.30000000000000004; total time=   0.0s\n",
      "[CV] END alpha=0.791578947368421, l1_ratio=0.30000000000000004; total time=   0.0s\n",
      "[CV] END alpha=0.791578947368421, l1_ratio=0.30000000000000004; total time=   0.0s\n",
      "[CV] END ..............alpha=0.791578947368421, l1_ratio=0.4; total time=   0.0s\n",
      "[CV] END ..............alpha=0.791578947368421, l1_ratio=0.4; total time=   0.1s\n",
      "[CV] END ..............alpha=0.791578947368421, l1_ratio=0.4; total time=   0.0s\n",
      "[CV] END ..............alpha=0.791578947368421, l1_ratio=0.4; total time=   0.0s\n",
      "[CV] END ..............alpha=0.791578947368421, l1_ratio=0.4; total time=   0.0s\n",
      "[CV] END ..............alpha=0.791578947368421, l1_ratio=0.5; total time=   0.1s\n",
      "[CV] END ..............alpha=0.791578947368421, l1_ratio=0.5; total time=   0.0s\n",
      "[CV] END ..............alpha=0.791578947368421, l1_ratio=0.5; total time=   0.0s\n",
      "[CV] END ..............alpha=0.791578947368421, l1_ratio=0.5; total time=   0.0s\n",
      "[CV] END ..............alpha=0.791578947368421, l1_ratio=0.5; total time=   0.1s\n",
      "[CV] END ..............alpha=0.791578947368421, l1_ratio=0.6; total time=   0.1s\n",
      "[CV] END ..............alpha=0.791578947368421, l1_ratio=0.6; total time=   0.0s\n",
      "[CV] END ..............alpha=0.791578947368421, l1_ratio=0.6; total time=   0.0s\n",
      "[CV] END ..............alpha=0.791578947368421, l1_ratio=0.6; total time=   0.0s\n",
      "[CV] END ..............alpha=0.791578947368421, l1_ratio=0.6; total time=   0.0s\n",
      "[CV] END alpha=0.791578947368421, l1_ratio=0.7000000000000001; total time=   0.0s\n",
      "[CV] END alpha=0.791578947368421, l1_ratio=0.7000000000000001; total time=   0.1s\n",
      "[CV] END alpha=0.791578947368421, l1_ratio=0.7000000000000001; total time=   0.1s\n",
      "[CV] END alpha=0.791578947368421, l1_ratio=0.7000000000000001; total time=   0.0s\n",
      "[CV] END alpha=0.791578947368421, l1_ratio=0.7000000000000001; total time=   0.1s\n",
      "[CV] END ..............alpha=0.791578947368421, l1_ratio=0.8; total time=   0.1s\n",
      "[CV] END ..............alpha=0.791578947368421, l1_ratio=0.8; total time=   0.1s\n",
      "[CV] END ..............alpha=0.791578947368421, l1_ratio=0.8; total time=   0.0s\n",
      "[CV] END ..............alpha=0.791578947368421, l1_ratio=0.8; total time=   0.1s\n",
      "[CV] END ..............alpha=0.791578947368421, l1_ratio=0.8; total time=   0.1s\n",
      "[CV] END ..............alpha=0.791578947368421, l1_ratio=0.9; total time=   0.1s\n",
      "[CV] END ..............alpha=0.791578947368421, l1_ratio=0.9; total time=   0.1s\n",
      "[CV] END ..............alpha=0.791578947368421, l1_ratio=0.9; total time=   0.1s\n",
      "[CV] END ..............alpha=0.791578947368421, l1_ratio=0.9; total time=   0.1s\n",
      "[CV] END ..............alpha=0.791578947368421, l1_ratio=0.9; total time=   0.1s\n",
      "[CV] END ..............alpha=0.791578947368421, l1_ratio=1.0; total time=   1.6s\n",
      "[CV] END ..............alpha=0.791578947368421, l1_ratio=1.0; total time=   1.5s\n",
      "[CV] END ..............alpha=0.791578947368421, l1_ratio=1.0; total time=   1.6s\n",
      "[CV] END ..............alpha=0.791578947368421, l1_ratio=1.0; total time=   1.5s\n",
      "[CV] END ..............alpha=0.791578947368421, l1_ratio=1.0; total time=   1.5s\n",
      "[CV] END .............alpha=0.8436842105263158, l1_ratio=0.1; total time=   0.0s\n",
      "[CV] END .............alpha=0.8436842105263158, l1_ratio=0.1; total time=   0.0s\n",
      "[CV] END .............alpha=0.8436842105263158, l1_ratio=0.1; total time=   0.0s\n",
      "[CV] END .............alpha=0.8436842105263158, l1_ratio=0.1; total time=   0.0s\n",
      "[CV] END .............alpha=0.8436842105263158, l1_ratio=0.1; total time=   0.0s\n",
      "[CV] END .............alpha=0.8436842105263158, l1_ratio=0.2; total time=   0.0s\n",
      "[CV] END .............alpha=0.8436842105263158, l1_ratio=0.2; total time=   0.2s\n",
      "[CV] END .............alpha=0.8436842105263158, l1_ratio=0.2; total time=   0.0s\n",
      "[CV] END .............alpha=0.8436842105263158, l1_ratio=0.2; total time=   0.0s\n",
      "[CV] END .............alpha=0.8436842105263158, l1_ratio=0.2; total time=   0.0s\n",
      "[CV] END alpha=0.8436842105263158, l1_ratio=0.30000000000000004; total time=   0.0s\n",
      "[CV] END alpha=0.8436842105263158, l1_ratio=0.30000000000000004; total time=   0.1s\n"
     ]
    },
    {
     "name": "stdout",
     "output_type": "stream",
     "text": [
      "[CV] END alpha=0.8436842105263158, l1_ratio=0.30000000000000004; total time=   0.1s\n",
      "[CV] END alpha=0.8436842105263158, l1_ratio=0.30000000000000004; total time=   0.1s\n",
      "[CV] END alpha=0.8436842105263158, l1_ratio=0.30000000000000004; total time=   0.0s\n",
      "[CV] END .............alpha=0.8436842105263158, l1_ratio=0.4; total time=   0.0s\n",
      "[CV] END .............alpha=0.8436842105263158, l1_ratio=0.4; total time=   0.1s\n",
      "[CV] END .............alpha=0.8436842105263158, l1_ratio=0.4; total time=   0.0s\n",
      "[CV] END .............alpha=0.8436842105263158, l1_ratio=0.4; total time=   0.0s\n",
      "[CV] END .............alpha=0.8436842105263158, l1_ratio=0.4; total time=   0.1s\n",
      "[CV] END .............alpha=0.8436842105263158, l1_ratio=0.5; total time=   0.1s\n",
      "[CV] END .............alpha=0.8436842105263158, l1_ratio=0.5; total time=   0.1s\n",
      "[CV] END .............alpha=0.8436842105263158, l1_ratio=0.5; total time=   0.1s\n",
      "[CV] END .............alpha=0.8436842105263158, l1_ratio=0.5; total time=   0.1s\n",
      "[CV] END .............alpha=0.8436842105263158, l1_ratio=0.5; total time=   0.0s\n",
      "[CV] END .............alpha=0.8436842105263158, l1_ratio=0.6; total time=   0.0s\n",
      "[CV] END .............alpha=0.8436842105263158, l1_ratio=0.6; total time=   0.0s\n",
      "[CV] END .............alpha=0.8436842105263158, l1_ratio=0.6; total time=   0.0s\n",
      "[CV] END .............alpha=0.8436842105263158, l1_ratio=0.6; total time=   0.1s\n",
      "[CV] END .............alpha=0.8436842105263158, l1_ratio=0.6; total time=   0.1s\n",
      "[CV] END alpha=0.8436842105263158, l1_ratio=0.7000000000000001; total time=   0.1s\n",
      "[CV] END alpha=0.8436842105263158, l1_ratio=0.7000000000000001; total time=   0.1s\n",
      "[CV] END alpha=0.8436842105263158, l1_ratio=0.7000000000000001; total time=   0.1s\n",
      "[CV] END alpha=0.8436842105263158, l1_ratio=0.7000000000000001; total time=   0.1s\n",
      "[CV] END alpha=0.8436842105263158, l1_ratio=0.7000000000000001; total time=   0.1s\n",
      "[CV] END .............alpha=0.8436842105263158, l1_ratio=0.8; total time=   0.1s\n",
      "[CV] END .............alpha=0.8436842105263158, l1_ratio=0.8; total time=   0.1s\n",
      "[CV] END .............alpha=0.8436842105263158, l1_ratio=0.8; total time=   0.1s\n",
      "[CV] END .............alpha=0.8436842105263158, l1_ratio=0.8; total time=   0.1s\n",
      "[CV] END .............alpha=0.8436842105263158, l1_ratio=0.8; total time=   0.1s\n",
      "[CV] END .............alpha=0.8436842105263158, l1_ratio=0.9; total time=   0.1s\n",
      "[CV] END .............alpha=0.8436842105263158, l1_ratio=0.9; total time=   0.1s\n",
      "[CV] END .............alpha=0.8436842105263158, l1_ratio=0.9; total time=   0.1s\n",
      "[CV] END .............alpha=0.8436842105263158, l1_ratio=0.9; total time=   0.1s\n",
      "[CV] END .............alpha=0.8436842105263158, l1_ratio=0.9; total time=   0.1s\n",
      "[CV] END .............alpha=0.8436842105263158, l1_ratio=1.0; total time=   1.7s\n",
      "[CV] END .............alpha=0.8436842105263158, l1_ratio=1.0; total time=   1.3s\n",
      "[CV] END .............alpha=0.8436842105263158, l1_ratio=1.0; total time=   1.2s\n",
      "[CV] END .............alpha=0.8436842105263158, l1_ratio=1.0; total time=   1.2s\n",
      "[CV] END .............alpha=0.8436842105263158, l1_ratio=1.0; total time=   1.3s\n",
      "[CV] END .............alpha=0.8957894736842106, l1_ratio=0.1; total time=   0.0s\n",
      "[CV] END .............alpha=0.8957894736842106, l1_ratio=0.1; total time=   0.0s\n",
      "[CV] END .............alpha=0.8957894736842106, l1_ratio=0.1; total time=   0.0s\n",
      "[CV] END .............alpha=0.8957894736842106, l1_ratio=0.1; total time=   0.0s\n",
      "[CV] END .............alpha=0.8957894736842106, l1_ratio=0.1; total time=   0.0s\n",
      "[CV] END .............alpha=0.8957894736842106, l1_ratio=0.2; total time=   0.0s\n",
      "[CV] END .............alpha=0.8957894736842106, l1_ratio=0.2; total time=   0.0s\n",
      "[CV] END .............alpha=0.8957894736842106, l1_ratio=0.2; total time=   0.0s\n",
      "[CV] END .............alpha=0.8957894736842106, l1_ratio=0.2; total time=   0.0s\n",
      "[CV] END .............alpha=0.8957894736842106, l1_ratio=0.2; total time=   0.1s\n",
      "[CV] END alpha=0.8957894736842106, l1_ratio=0.30000000000000004; total time=   0.0s\n",
      "[CV] END alpha=0.8957894736842106, l1_ratio=0.30000000000000004; total time=   0.0s\n",
      "[CV] END alpha=0.8957894736842106, l1_ratio=0.30000000000000004; total time=   0.0s\n",
      "[CV] END alpha=0.8957894736842106, l1_ratio=0.30000000000000004; total time=   0.0s\n",
      "[CV] END alpha=0.8957894736842106, l1_ratio=0.30000000000000004; total time=   0.0s\n",
      "[CV] END .............alpha=0.8957894736842106, l1_ratio=0.4; total time=   0.1s\n",
      "[CV] END .............alpha=0.8957894736842106, l1_ratio=0.4; total time=   0.1s\n",
      "[CV] END .............alpha=0.8957894736842106, l1_ratio=0.4; total time=   0.0s\n",
      "[CV] END .............alpha=0.8957894736842106, l1_ratio=0.4; total time=   0.0s\n",
      "[CV] END .............alpha=0.8957894736842106, l1_ratio=0.4; total time=   0.0s\n",
      "[CV] END .............alpha=0.8957894736842106, l1_ratio=0.5; total time=   0.0s\n",
      "[CV] END .............alpha=0.8957894736842106, l1_ratio=0.5; total time=   0.0s\n",
      "[CV] END .............alpha=0.8957894736842106, l1_ratio=0.5; total time=   0.1s\n",
      "[CV] END .............alpha=0.8957894736842106, l1_ratio=0.5; total time=   0.0s\n",
      "[CV] END .............alpha=0.8957894736842106, l1_ratio=0.5; total time=   0.0s\n",
      "[CV] END .............alpha=0.8957894736842106, l1_ratio=0.6; total time=   0.0s\n",
      "[CV] END .............alpha=0.8957894736842106, l1_ratio=0.6; total time=   0.0s\n",
      "[CV] END .............alpha=0.8957894736842106, l1_ratio=0.6; total time=   0.1s\n",
      "[CV] END .............alpha=0.8957894736842106, l1_ratio=0.6; total time=   0.1s\n",
      "[CV] END .............alpha=0.8957894736842106, l1_ratio=0.6; total time=   0.1s\n",
      "[CV] END alpha=0.8957894736842106, l1_ratio=0.7000000000000001; total time=   0.1s\n",
      "[CV] END alpha=0.8957894736842106, l1_ratio=0.7000000000000001; total time=   0.1s\n",
      "[CV] END alpha=0.8957894736842106, l1_ratio=0.7000000000000001; total time=   0.1s\n",
      "[CV] END alpha=0.8957894736842106, l1_ratio=0.7000000000000001; total time=   0.1s\n",
      "[CV] END alpha=0.8957894736842106, l1_ratio=0.7000000000000001; total time=   0.1s\n",
      "[CV] END .............alpha=0.8957894736842106, l1_ratio=0.8; total time=   0.1s\n",
      "[CV] END .............alpha=0.8957894736842106, l1_ratio=0.8; total time=   0.1s\n",
      "[CV] END .............alpha=0.8957894736842106, l1_ratio=0.8; total time=   0.0s\n",
      "[CV] END .............alpha=0.8957894736842106, l1_ratio=0.8; total time=   0.1s\n",
      "[CV] END .............alpha=0.8957894736842106, l1_ratio=0.8; total time=   0.1s\n",
      "[CV] END .............alpha=0.8957894736842106, l1_ratio=0.9; total time=   0.1s\n",
      "[CV] END .............alpha=0.8957894736842106, l1_ratio=0.9; total time=   0.1s\n",
      "[CV] END .............alpha=0.8957894736842106, l1_ratio=0.9; total time=   0.1s\n",
      "[CV] END .............alpha=0.8957894736842106, l1_ratio=0.9; total time=   0.1s\n",
      "[CV] END .............alpha=0.8957894736842106, l1_ratio=0.9; total time=   0.1s\n",
      "[CV] END .............alpha=0.8957894736842106, l1_ratio=1.0; total time=   1.4s\n",
      "[CV] END .............alpha=0.8957894736842106, l1_ratio=1.0; total time=   1.4s\n",
      "[CV] END .............alpha=0.8957894736842106, l1_ratio=1.0; total time=   1.3s\n",
      "[CV] END .............alpha=0.8957894736842106, l1_ratio=1.0; total time=   1.2s\n",
      "[CV] END .............alpha=0.8957894736842106, l1_ratio=1.0; total time=   1.2s\n",
      "[CV] END .............alpha=0.9478947368421053, l1_ratio=0.1; total time=   0.0s\n",
      "[CV] END .............alpha=0.9478947368421053, l1_ratio=0.1; total time=   0.0s\n",
      "[CV] END .............alpha=0.9478947368421053, l1_ratio=0.1; total time=   0.0s\n",
      "[CV] END .............alpha=0.9478947368421053, l1_ratio=0.1; total time=   0.0s\n",
      "[CV] END .............alpha=0.9478947368421053, l1_ratio=0.1; total time=   0.0s\n",
      "[CV] END .............alpha=0.9478947368421053, l1_ratio=0.2; total time=   0.0s\n",
      "[CV] END .............alpha=0.9478947368421053, l1_ratio=0.2; total time=   0.0s\n",
      "[CV] END .............alpha=0.9478947368421053, l1_ratio=0.2; total time=   0.0s\n",
      "[CV] END .............alpha=0.9478947368421053, l1_ratio=0.2; total time=   0.0s\n",
      "[CV] END .............alpha=0.9478947368421053, l1_ratio=0.2; total time=   0.0s\n",
      "[CV] END alpha=0.9478947368421053, l1_ratio=0.30000000000000004; total time=   0.0s\n",
      "[CV] END alpha=0.9478947368421053, l1_ratio=0.30000000000000004; total time=   0.0s\n",
      "[CV] END alpha=0.9478947368421053, l1_ratio=0.30000000000000004; total time=   0.0s\n"
     ]
    },
    {
     "name": "stdout",
     "output_type": "stream",
     "text": [
      "[CV] END alpha=0.9478947368421053, l1_ratio=0.30000000000000004; total time=   0.0s\n",
      "[CV] END alpha=0.9478947368421053, l1_ratio=0.30000000000000004; total time=   0.0s\n",
      "[CV] END .............alpha=0.9478947368421053, l1_ratio=0.4; total time=   0.0s\n",
      "[CV] END .............alpha=0.9478947368421053, l1_ratio=0.4; total time=   0.0s\n",
      "[CV] END .............alpha=0.9478947368421053, l1_ratio=0.4; total time=   0.0s\n",
      "[CV] END .............alpha=0.9478947368421053, l1_ratio=0.4; total time=   0.0s\n",
      "[CV] END .............alpha=0.9478947368421053, l1_ratio=0.4; total time=   0.0s\n",
      "[CV] END .............alpha=0.9478947368421053, l1_ratio=0.5; total time=   0.0s\n",
      "[CV] END .............alpha=0.9478947368421053, l1_ratio=0.5; total time=   0.0s\n",
      "[CV] END .............alpha=0.9478947368421053, l1_ratio=0.5; total time=   0.0s\n",
      "[CV] END .............alpha=0.9478947368421053, l1_ratio=0.5; total time=   0.1s\n",
      "[CV] END .............alpha=0.9478947368421053, l1_ratio=0.5; total time=   0.0s\n",
      "[CV] END .............alpha=0.9478947368421053, l1_ratio=0.6; total time=   0.0s\n",
      "[CV] END .............alpha=0.9478947368421053, l1_ratio=0.6; total time=   0.0s\n",
      "[CV] END .............alpha=0.9478947368421053, l1_ratio=0.6; total time=   0.1s\n",
      "[CV] END .............alpha=0.9478947368421053, l1_ratio=0.6; total time=   0.0s\n",
      "[CV] END .............alpha=0.9478947368421053, l1_ratio=0.6; total time=   0.0s\n",
      "[CV] END alpha=0.9478947368421053, l1_ratio=0.7000000000000001; total time=   0.1s\n",
      "[CV] END alpha=0.9478947368421053, l1_ratio=0.7000000000000001; total time=   0.0s\n",
      "[CV] END alpha=0.9478947368421053, l1_ratio=0.7000000000000001; total time=   0.1s\n",
      "[CV] END alpha=0.9478947368421053, l1_ratio=0.7000000000000001; total time=   0.0s\n",
      "[CV] END alpha=0.9478947368421053, l1_ratio=0.7000000000000001; total time=   0.0s\n",
      "[CV] END .............alpha=0.9478947368421053, l1_ratio=0.8; total time=   0.1s\n",
      "[CV] END .............alpha=0.9478947368421053, l1_ratio=0.8; total time=   0.0s\n",
      "[CV] END .............alpha=0.9478947368421053, l1_ratio=0.8; total time=   0.1s\n",
      "[CV] END .............alpha=0.9478947368421053, l1_ratio=0.8; total time=   0.0s\n",
      "[CV] END .............alpha=0.9478947368421053, l1_ratio=0.8; total time=   0.1s\n",
      "[CV] END .............alpha=0.9478947368421053, l1_ratio=0.9; total time=   0.1s\n",
      "[CV] END .............alpha=0.9478947368421053, l1_ratio=0.9; total time=   0.1s\n",
      "[CV] END .............alpha=0.9478947368421053, l1_ratio=0.9; total time=   0.1s\n",
      "[CV] END .............alpha=0.9478947368421053, l1_ratio=0.9; total time=   0.1s\n",
      "[CV] END .............alpha=0.9478947368421053, l1_ratio=0.9; total time=   0.1s\n",
      "[CV] END .............alpha=0.9478947368421053, l1_ratio=1.0; total time=   1.3s\n",
      "[CV] END .............alpha=0.9478947368421053, l1_ratio=1.0; total time=   1.3s\n",
      "[CV] END .............alpha=0.9478947368421053, l1_ratio=1.0; total time=   1.2s\n",
      "[CV] END .............alpha=0.9478947368421053, l1_ratio=1.0; total time=   1.1s\n",
      "[CV] END .............alpha=0.9478947368421053, l1_ratio=1.0; total time=   1.3s\n",
      "[CV] END ............................alpha=1.0, l1_ratio=0.1; total time=   0.0s\n",
      "[CV] END ............................alpha=1.0, l1_ratio=0.1; total time=   0.0s\n",
      "[CV] END ............................alpha=1.0, l1_ratio=0.1; total time=   0.0s\n",
      "[CV] END ............................alpha=1.0, l1_ratio=0.1; total time=   0.0s\n",
      "[CV] END ............................alpha=1.0, l1_ratio=0.1; total time=   0.0s\n",
      "[CV] END ............................alpha=1.0, l1_ratio=0.2; total time=   0.1s\n",
      "[CV] END ............................alpha=1.0, l1_ratio=0.2; total time=   0.0s\n",
      "[CV] END ............................alpha=1.0, l1_ratio=0.2; total time=   0.0s\n",
      "[CV] END ............................alpha=1.0, l1_ratio=0.2; total time=   0.0s\n",
      "[CV] END ............................alpha=1.0, l1_ratio=0.2; total time=   0.0s\n",
      "[CV] END ............alpha=1.0, l1_ratio=0.30000000000000004; total time=   0.0s\n",
      "[CV] END ............alpha=1.0, l1_ratio=0.30000000000000004; total time=   0.1s\n",
      "[CV] END ............alpha=1.0, l1_ratio=0.30000000000000004; total time=   0.0s\n",
      "[CV] END ............alpha=1.0, l1_ratio=0.30000000000000004; total time=   0.0s\n",
      "[CV] END ............alpha=1.0, l1_ratio=0.30000000000000004; total time=   0.0s\n",
      "[CV] END ............................alpha=1.0, l1_ratio=0.4; total time=   0.1s\n",
      "[CV] END ............................alpha=1.0, l1_ratio=0.4; total time=   0.0s\n",
      "[CV] END ............................alpha=1.0, l1_ratio=0.4; total time=   0.1s\n",
      "[CV] END ............................alpha=1.0, l1_ratio=0.4; total time=   0.0s\n",
      "[CV] END ............................alpha=1.0, l1_ratio=0.4; total time=   0.0s\n",
      "[CV] END ............................alpha=1.0, l1_ratio=0.5; total time=   0.0s\n",
      "[CV] END ............................alpha=1.0, l1_ratio=0.5; total time=   0.0s\n",
      "[CV] END ............................alpha=1.0, l1_ratio=0.5; total time=   0.0s\n",
      "[CV] END ............................alpha=1.0, l1_ratio=0.5; total time=   0.0s\n",
      "[CV] END ............................alpha=1.0, l1_ratio=0.5; total time=   0.0s\n",
      "[CV] END ............................alpha=1.0, l1_ratio=0.6; total time=   0.1s\n",
      "[CV] END ............................alpha=1.0, l1_ratio=0.6; total time=   0.0s\n",
      "[CV] END ............................alpha=1.0, l1_ratio=0.6; total time=   0.1s\n",
      "[CV] END ............................alpha=1.0, l1_ratio=0.6; total time=   0.1s\n",
      "[CV] END ............................alpha=1.0, l1_ratio=0.6; total time=   0.2s\n",
      "[CV] END .............alpha=1.0, l1_ratio=0.7000000000000001; total time=   0.1s\n",
      "[CV] END .............alpha=1.0, l1_ratio=0.7000000000000001; total time=   0.4s\n",
      "[CV] END .............alpha=1.0, l1_ratio=0.7000000000000001; total time=   0.2s\n",
      "[CV] END .............alpha=1.0, l1_ratio=0.7000000000000001; total time=   0.1s\n",
      "[CV] END .............alpha=1.0, l1_ratio=0.7000000000000001; total time=   0.2s\n",
      "[CV] END ............................alpha=1.0, l1_ratio=0.8; total time=   0.2s\n",
      "[CV] END ............................alpha=1.0, l1_ratio=0.8; total time=   0.1s\n",
      "[CV] END ............................alpha=1.0, l1_ratio=0.8; total time=   0.2s\n",
      "[CV] END ............................alpha=1.0, l1_ratio=0.8; total time=   0.1s\n",
      "[CV] END ............................alpha=1.0, l1_ratio=0.8; total time=   0.2s\n",
      "[CV] END ............................alpha=1.0, l1_ratio=0.9; total time=   0.1s\n",
      "[CV] END ............................alpha=1.0, l1_ratio=0.9; total time=   0.2s\n",
      "[CV] END ............................alpha=1.0, l1_ratio=0.9; total time=   0.1s\n",
      "[CV] END ............................alpha=1.0, l1_ratio=0.9; total time=   0.1s\n",
      "[CV] END ............................alpha=1.0, l1_ratio=0.9; total time=   0.2s\n",
      "[CV] END ............................alpha=1.0, l1_ratio=1.0; total time=   1.3s\n",
      "[CV] END ............................alpha=1.0, l1_ratio=1.0; total time=   1.2s\n",
      "[CV] END ............................alpha=1.0, l1_ratio=1.0; total time=   1.4s\n",
      "[CV] END ............................alpha=1.0, l1_ratio=1.0; total time=   1.2s\n",
      "[CV] END ............................alpha=1.0, l1_ratio=1.0; total time=   1.3s\n"
     ]
    },
    {
     "data": {
      "text/plain": [
       "GridSearchCV(cv=5, estimator=ElasticNet(random_state=24),\n",
       "             param_grid={'alpha': array([0.01      , 0.06210526, 0.11421053, 0.16631579, 0.21842105,\n",
       "       0.27052632, 0.32263158, 0.37473684, 0.42684211, 0.47894737,\n",
       "       0.53105263, 0.58315789, 0.63526316, 0.68736842, 0.73947368,\n",
       "       0.79157895, 0.84368421, 0.89578947, 0.94789474, 1.        ]),\n",
       "                         'l1_ratio': array([0.1, 0.2, 0.3, 0.4, 0.5, 0.6, 0.7, 0.8, 0.9, 1. ])},\n",
       "             scoring='neg_root_mean_squared_error', verbose=2)"
      ]
     },
     "execution_count": 80,
     "metadata": {},
     "output_type": "execute_result"
    }
   ],
   "source": [
    "grid_model.fit(X_train_scaled, y_train)"
   ]
  },
  {
   "cell_type": "code",
   "execution_count": null,
   "metadata": {},
   "outputs": [
    {
     "data": {
      "text/plain": [
       "{'alpha': 1.0, 'l1_ratio': 1.0}"
      ]
     },
     "execution_count": 81,
     "metadata": {},
     "output_type": "execute_result"
    }
   ],
   "source": [
    "grid_model.best_params_"
   ]
  },
  {
   "cell_type": "code",
   "execution_count": null,
   "metadata": {},
   "outputs": [
    {
     "data": {
      "text/html": [
       "<div>\n",
       "<style scoped>\n",
       "    .dataframe tbody tr th:only-of-type {\n",
       "        vertical-align: middle;\n",
       "    }\n",
       "\n",
       "    .dataframe tbody tr th {\n",
       "        vertical-align: top;\n",
       "    }\n",
       "\n",
       "    .dataframe thead th {\n",
       "        text-align: right;\n",
       "    }\n",
       "</style>\n",
       "<table border=\"1\" class=\"dataframe\">\n",
       "  <thead>\n",
       "    <tr style=\"text-align: right;\">\n",
       "      <th></th>\n",
       "      <th>mean_fit_time</th>\n",
       "      <th>std_fit_time</th>\n",
       "      <th>mean_score_time</th>\n",
       "      <th>std_score_time</th>\n",
       "      <th>param_alpha</th>\n",
       "      <th>param_l1_ratio</th>\n",
       "      <th>params</th>\n",
       "      <th>split0_test_score</th>\n",
       "      <th>split1_test_score</th>\n",
       "      <th>split2_test_score</th>\n",
       "      <th>split3_test_score</th>\n",
       "      <th>split4_test_score</th>\n",
       "      <th>mean_test_score</th>\n",
       "      <th>std_test_score</th>\n",
       "      <th>rank_test_score</th>\n",
       "    </tr>\n",
       "  </thead>\n",
       "  <tbody>\n",
       "    <tr>\n",
       "      <th>199</th>\n",
       "      <td>1.3874</td>\n",
       "      <td>0.0699</td>\n",
       "      <td>0.0010</td>\n",
       "      <td>0.0000</td>\n",
       "      <td>1.0000</td>\n",
       "      <td>1.0000</td>\n",
       "      <td>{'alpha': 1.0, 'l1_ratio': 1.0}</td>\n",
       "      <td>-2513.3448</td>\n",
       "      <td>-2466.6583</td>\n",
       "      <td>-2618.7402</td>\n",
       "      <td>-2552.4463</td>\n",
       "      <td>-2586.2587</td>\n",
       "      <td>-2547.4897</td>\n",
       "      <td>53.4861</td>\n",
       "      <td>1</td>\n",
       "    </tr>\n",
       "  </tbody>\n",
       "</table>\n",
       "</div>"
      ],
      "text/plain": [
       "     mean_fit_time  std_fit_time  mean_score_time  std_score_time param_alpha  \\\n",
       "199         1.3874        0.0699           0.0010          0.0000      1.0000   \n",
       "\n",
       "    param_l1_ratio                           params  split0_test_score  \\\n",
       "199         1.0000  {'alpha': 1.0, 'l1_ratio': 1.0}         -2513.3448   \n",
       "\n",
       "     split1_test_score  split2_test_score  split3_test_score  \\\n",
       "199         -2466.6583         -2618.7402         -2552.4463   \n",
       "\n",
       "     split4_test_score  mean_test_score  std_test_score  rank_test_score  \n",
       "199         -2586.2587       -2547.4897         53.4861                1  "
      ]
     },
     "execution_count": 84,
     "metadata": {},
     "output_type": "execute_result"
    }
   ],
   "source": [
    "pd.DataFrame(grid_model.cv_results_).sort_values(by=\"rank_test_score\").head(1)"
   ]
  },
  {
   "cell_type": "code",
   "execution_count": null,
   "metadata": {},
   "outputs": [],
   "source": [
    "y_pred = grid_model.predict(X_test_scaled)\n",
    "y_train_pred = grid_model.predict(X_train_scaled)"
   ]
  },
  {
   "cell_type": "code",
   "execution_count": null,
   "metadata": {},
   "outputs": [
    {
     "data": {
      "text/html": [
       "<div>\n",
       "<style scoped>\n",
       "    .dataframe tbody tr th:only-of-type {\n",
       "        vertical-align: middle;\n",
       "    }\n",
       "\n",
       "    .dataframe tbody tr th {\n",
       "        vertical-align: top;\n",
       "    }\n",
       "\n",
       "    .dataframe thead th {\n",
       "        text-align: right;\n",
       "    }\n",
       "</style>\n",
       "<table border=\"1\" class=\"dataframe\">\n",
       "  <thead>\n",
       "    <tr style=\"text-align: right;\">\n",
       "      <th></th>\n",
       "      <th>GridSearch_train</th>\n",
       "      <th>GridSearch_test</th>\n",
       "    </tr>\n",
       "  </thead>\n",
       "  <tbody>\n",
       "    <tr>\n",
       "      <th>R2</th>\n",
       "      <td>0.8857</td>\n",
       "      <td>0.8728</td>\n",
       "    </tr>\n",
       "    <tr>\n",
       "      <th>mae</th>\n",
       "      <td>1755.9052</td>\n",
       "      <td>1805.9431</td>\n",
       "    </tr>\n",
       "    <tr>\n",
       "      <th>mse</th>\n",
       "      <td>6253934.1233</td>\n",
       "      <td>6858091.7145</td>\n",
       "    </tr>\n",
       "    <tr>\n",
       "      <th>rmse</th>\n",
       "      <td>2500.7867</td>\n",
       "      <td>2618.7959</td>\n",
       "    </tr>\n",
       "  </tbody>\n",
       "</table>\n",
       "</div>"
      ],
      "text/plain": [
       "      GridSearch_train  GridSearch_test\n",
       "R2              0.8857           0.8728\n",
       "mae          1755.9052        1805.9431\n",
       "mse       6253934.1233     6858091.7145\n",
       "rmse         2500.7867        2618.7959"
      ]
     },
     "execution_count": 87,
     "metadata": {},
     "output_type": "execute_result"
    }
   ],
   "source": [
    "gcv = train_val(y_train, y_train_pred, y_test, y_pred, \"GridSearch\")\n",
    "gcv"
   ]
  },
  {
   "cell_type": "code",
   "execution_count": null,
   "metadata": {},
   "outputs": [
    {
     "data": {
      "text/html": [
       "<div>\n",
       "<style scoped>\n",
       "    .dataframe tbody tr th:only-of-type {\n",
       "        vertical-align: middle;\n",
       "    }\n",
       "\n",
       "    .dataframe tbody tr th {\n",
       "        vertical-align: top;\n",
       "    }\n",
       "\n",
       "    .dataframe thead th {\n",
       "        text-align: right;\n",
       "    }\n",
       "</style>\n",
       "<table border=\"1\" class=\"dataframe\">\n",
       "  <thead>\n",
       "    <tr style=\"text-align: right;\">\n",
       "      <th></th>\n",
       "      <th>linear_train</th>\n",
       "      <th>linear_test</th>\n",
       "      <th>ridge_train</th>\n",
       "      <th>ridge_test</th>\n",
       "      <th>(α=1)_ridge_cv_train</th>\n",
       "      <th>(α=1)_ridge_cv_test</th>\n",
       "      <th>(α=1)_lasso_cv_train</th>\n",
       "      <th>(α=1)_lasso_cv_test</th>\n",
       "      <th>GridSearch_train</th>\n",
       "      <th>GridSearch_test</th>\n",
       "    </tr>\n",
       "  </thead>\n",
       "  <tbody>\n",
       "    <tr>\n",
       "      <th>R2</th>\n",
       "      <td>0.8857</td>\n",
       "      <td>0.8727</td>\n",
       "      <td>0.8857</td>\n",
       "      <td>0.8727</td>\n",
       "      <td>0.8857</td>\n",
       "      <td>0.8728</td>\n",
       "      <td>0.8857</td>\n",
       "      <td>0.8728</td>\n",
       "      <td>0.8857</td>\n",
       "      <td>0.8728</td>\n",
       "    </tr>\n",
       "    <tr>\n",
       "      <th>mae</th>\n",
       "      <td>1756.2883</td>\n",
       "      <td>1806.7573</td>\n",
       "      <td>1756.2983</td>\n",
       "      <td>1806.6997</td>\n",
       "      <td>1755.9052</td>\n",
       "      <td>1805.9431</td>\n",
       "      <td>1755.9052</td>\n",
       "      <td>1805.9431</td>\n",
       "      <td>1755.9052</td>\n",
       "      <td>1805.9431</td>\n",
       "    </tr>\n",
       "    <tr>\n",
       "      <th>mse</th>\n",
       "      <td>6253827.9528</td>\n",
       "      <td>6861279.4009</td>\n",
       "      <td>6253694.8650</td>\n",
       "      <td>6862297.0163</td>\n",
       "      <td>6253934.1233</td>\n",
       "      <td>6858091.7145</td>\n",
       "      <td>6253934.1233</td>\n",
       "      <td>6858091.7145</td>\n",
       "      <td>6253934.1233</td>\n",
       "      <td>6858091.7145</td>\n",
       "    </tr>\n",
       "    <tr>\n",
       "      <th>rmse</th>\n",
       "      <td>2500.7655</td>\n",
       "      <td>2619.4044</td>\n",
       "      <td>2500.7389</td>\n",
       "      <td>2619.5986</td>\n",
       "      <td>2500.7867</td>\n",
       "      <td>2618.7959</td>\n",
       "      <td>2500.7867</td>\n",
       "      <td>2618.7959</td>\n",
       "      <td>2500.7867</td>\n",
       "      <td>2618.7959</td>\n",
       "    </tr>\n",
       "  </tbody>\n",
       "</table>\n",
       "</div>"
      ],
      "text/plain": [
       "      linear_train  linear_test  ridge_train   ridge_test  \\\n",
       "R2          0.8857       0.8727       0.8857       0.8727   \n",
       "mae      1756.2883    1806.7573    1756.2983    1806.6997   \n",
       "mse   6253827.9528 6861279.4009 6253694.8650 6862297.0163   \n",
       "rmse     2500.7655    2619.4044    2500.7389    2619.5986   \n",
       "\n",
       "      (α=1)_ridge_cv_train  (α=1)_ridge_cv_test  (α=1)_lasso_cv_train  \\\n",
       "R2                  0.8857               0.8728                0.8857   \n",
       "mae              1755.9052            1805.9431             1755.9052   \n",
       "mse           6253934.1233         6858091.7145          6253934.1233   \n",
       "rmse             2500.7867            2618.7959             2500.7867   \n",
       "\n",
       "      (α=1)_lasso_cv_test  GridSearch_train  GridSearch_test  \n",
       "R2                 0.8728            0.8857           0.8728  \n",
       "mae             1805.9431         1755.9052        1805.9431  \n",
       "mse          6858091.7145      6253934.1233     6858091.7145  \n",
       "rmse            2618.7959         2500.7867        2618.7959  "
      ]
     },
     "execution_count": 117,
     "metadata": {},
     "output_type": "execute_result"
    }
   ],
   "source": [
    "pd.concat([lm, rm, rcv, lcv, gcv], axis = 1)"
   ]
  },
  {
   "cell_type": "code",
   "execution_count": null,
   "metadata": {},
   "outputs": [
    {
     "data": {
      "text/html": [
       "<div>\n",
       "<style scoped>\n",
       "    .dataframe tbody tr th:only-of-type {\n",
       "        vertical-align: middle;\n",
       "    }\n",
       "\n",
       "    .dataframe tbody tr th {\n",
       "        vertical-align: top;\n",
       "    }\n",
       "\n",
       "    .dataframe thead th {\n",
       "        text-align: right;\n",
       "    }\n",
       "</style>\n",
       "<table border=\"1\" class=\"dataframe\">\n",
       "  <thead>\n",
       "    <tr style=\"text-align: right;\">\n",
       "      <th></th>\n",
       "      <th>R2</th>\n",
       "      <th>mae</th>\n",
       "      <th>mse</th>\n",
       "      <th>rmse</th>\n",
       "    </tr>\n",
       "  </thead>\n",
       "  <tbody>\n",
       "    <tr>\n",
       "      <th>linear_train</th>\n",
       "      <td>0.8857</td>\n",
       "      <td>1756.2883</td>\n",
       "      <td>6253827.9528</td>\n",
       "      <td>2500.7655</td>\n",
       "    </tr>\n",
       "    <tr>\n",
       "      <th>linear_test</th>\n",
       "      <td>0.8727</td>\n",
       "      <td>1806.7573</td>\n",
       "      <td>6861279.4009</td>\n",
       "      <td>2619.4044</td>\n",
       "    </tr>\n",
       "    <tr>\n",
       "      <th>ridge_train</th>\n",
       "      <td>0.8857</td>\n",
       "      <td>1756.2983</td>\n",
       "      <td>6253694.8650</td>\n",
       "      <td>2500.7389</td>\n",
       "    </tr>\n",
       "    <tr>\n",
       "      <th>ridge_test</th>\n",
       "      <td>0.8727</td>\n",
       "      <td>1806.6997</td>\n",
       "      <td>6862297.0163</td>\n",
       "      <td>2619.5986</td>\n",
       "    </tr>\n",
       "    <tr>\n",
       "      <th>(α=1)_ridge_cv_train</th>\n",
       "      <td>0.8857</td>\n",
       "      <td>1755.9052</td>\n",
       "      <td>6253934.1233</td>\n",
       "      <td>2500.7867</td>\n",
       "    </tr>\n",
       "    <tr>\n",
       "      <th>(α=1)_ridge_cv_test</th>\n",
       "      <td>0.8728</td>\n",
       "      <td>1805.9431</td>\n",
       "      <td>6858091.7145</td>\n",
       "      <td>2618.7959</td>\n",
       "    </tr>\n",
       "    <tr>\n",
       "      <th>(α=1)_lasso_cv_train</th>\n",
       "      <td>0.8857</td>\n",
       "      <td>1755.9052</td>\n",
       "      <td>6253934.1233</td>\n",
       "      <td>2500.7867</td>\n",
       "    </tr>\n",
       "    <tr>\n",
       "      <th>(α=1)_lasso_cv_test</th>\n",
       "      <td>0.8728</td>\n",
       "      <td>1805.9431</td>\n",
       "      <td>6858091.7145</td>\n",
       "      <td>2618.7959</td>\n",
       "    </tr>\n",
       "    <tr>\n",
       "      <th>GridSearch_train</th>\n",
       "      <td>0.8857</td>\n",
       "      <td>1755.9052</td>\n",
       "      <td>6253934.1233</td>\n",
       "      <td>2500.7867</td>\n",
       "    </tr>\n",
       "    <tr>\n",
       "      <th>GridSearch_test</th>\n",
       "      <td>0.8728</td>\n",
       "      <td>1805.9431</td>\n",
       "      <td>6858091.7145</td>\n",
       "      <td>2618.7959</td>\n",
       "    </tr>\n",
       "  </tbody>\n",
       "</table>\n",
       "</div>"
      ],
      "text/plain": [
       "                         R2       mae          mse      rmse\n",
       "linear_train         0.8857 1756.2883 6253827.9528 2500.7655\n",
       "linear_test          0.8727 1806.7573 6861279.4009 2619.4044\n",
       "ridge_train          0.8857 1756.2983 6253694.8650 2500.7389\n",
       "ridge_test           0.8727 1806.6997 6862297.0163 2619.5986\n",
       "(α=1)_ridge_cv_train 0.8857 1755.9052 6253934.1233 2500.7867\n",
       "(α=1)_ridge_cv_test  0.8728 1805.9431 6858091.7145 2618.7959\n",
       "(α=1)_lasso_cv_train 0.8857 1755.9052 6253934.1233 2500.7867\n",
       "(α=1)_lasso_cv_test  0.8728 1805.9431 6858091.7145 2618.7959\n",
       "GridSearch_train     0.8857 1755.9052 6253934.1233 2500.7867\n",
       "GridSearch_test      0.8728 1805.9431 6858091.7145 2618.7959"
      ]
     },
     "execution_count": 92,
     "metadata": {},
     "output_type": "execute_result"
    }
   ],
   "source": [
    "final = pd.concat([lm, rm, rcv, lcv, gcv], axis = 1).T\n",
    "final"
   ]
  },
  {
   "cell_type": "markdown",
   "metadata": {
    "id": "sYyuZQtWmqZO"
   },
   "source": [
    "## 7. Visually Compare Models Performance In a Graph"
   ]
  },
  {
   "cell_type": "code",
   "execution_count": null,
   "metadata": {
    "id": "iig18G7zmqZO"
   },
   "outputs": [],
   "source": [
    "r2_sort = final.reset_index().sort_values(by=\"R2\", ascending = False)"
   ]
  },
  {
   "cell_type": "code",
   "execution_count": null,
   "metadata": {},
   "outputs": [],
   "source": [
    "rmse_sort = final.reset_index().sort_values(by=\"rmse\")"
   ]
  },
  {
   "cell_type": "code",
   "execution_count": null,
   "metadata": {},
   "outputs": [
    {
     "data": {
      "image/png": "[encoded data removed]",
      "text/plain": [
       "<Figure size 1080x432 with 2 Axes>"
      ]
     },
     "metadata": {
      "needs_background": "light"
     },
     "output_type": "display_data"
    }
   ],
   "source": [
    "plt.figure(figsize=(15,6))\n",
    "plt.subplot(121)\n",
    "sns.barplot(x = \"R2\", y = \"index\", data = r2_sort)\n",
    "\n",
    "plt.subplot(122)\n",
    "sns.barplot(x = \"rmse\", y = \"index\", data = rmse_sort)\n",
    "plt.tight_layout();"
   ]
  },
  {
   "cell_type": "markdown",
   "metadata": {},
   "source": [
    "___\n",
    "\n",
    "<p style=\"text-align: center;\"><img src=\"https://docs.google.com/uc?id=1lY0Uj5R04yMY3-ZppPWxqCr5pvBLYPnV\" class=\"img-fluid\" alt=\"CLRSWY\"></p>\n",
    "\n",
    "___"
   ]
  },
  {
   "cell_type": "code",
   "execution_count": null,
   "metadata": {},
   "outputs": [],
   "source": []
  }
 ],
 "metadata": {
  "colab": {
   "collapsed_sections": [],
   "name": "modeling_auto_scout_Student_V1.ipynb",
   "provenance": []
  },
  "kernelspec": {
   "display_name": "Python 3 (ipykernel)",
   "language": "python",
   "name": "python3"
  },
  "language_info": {
   "codemirror_mode": {
    "name": "ipython",
    "version": 3
   },
   "file_extension": ".py",
   "mimetype": "text/x-python",
   "name": "python",
   "nbconvert_exporter": "python",
   "pygments_lexer": "ipython3",
   "version": "3.10.4"
  }
 },
 "nbformat": 4,
 "nbformat_minor": 4
}
